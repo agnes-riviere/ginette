{
 "cells": [
  {
   "cell_type": "markdown",
   "metadata": {},
   "source": [
    "# First script inversion of the ZNS parameters\n",
    "\n",
    "Thanks to this script we will carry out an inversion of the parameters of the unsaturated area, the porosity and the depth of the water table in steady state from a valerence simulation sampled in 100 points. The heat transfer takes place in a one-dimensional soil of height 1m represented. \n",
    "\n",
    "The inversion will focus on the four uncertain parameters and one boundary condition of this model, namely:\n",
    "\n",
    "- the porosity $n$\n",
    "- the alpha Van Genuchten parameter $\\alpha$,\n",
    "- the $n$ Van Genuchten parameter, \n",
    "- the residual saturation $s_wres$, and\n",
    "- the water table altitude (WT).\n",
    "\n",
    "\n",
    "Fill the E_temperature_initiale.dat with the initial temperature profile\n",
    "\n",
    "\n",
    "\n"
   ]
  },
  {
   "cell_type": "markdown",
   "metadata": {},
   "source": [
    "# 1 Fill parameters and setup"
   ]
  },
  {
   "cell_type": "code",
   "execution_count": 1,
   "metadata": {},
   "outputs": [
    {
     "name": "stderr",
     "output_type": "stream",
     "text": [
      "/usr/lib/python3/dist-packages/scipy/__init__.py:146: UserWarning: A NumPy version >=1.17.3 and <1.25.0 is required for this version of SciPy (detected version 1.25.1\n",
      "  warnings.warn(f\"A NumPy version >={np_minversion} and <{np_maxversion}\"\n"
     ]
    }
   ],
   "source": [
    "import os\n",
    "import numpy as np\n",
    "from pathlib import Path\n",
    "import pandas as pd\n",
    "import array\n",
    "from scipy import interpolate\n",
    "import matplotlib.pyplot as plt\n",
    "import matplotlib as mpl\n",
    "from IPython.display import display\n",
    "import warnings\n",
    "import math\n",
    "import sys\n",
    "import shutil  \n",
    "import os    \n",
    "import subprocess\n",
    "from importlib import reload\n",
    "# path of the 1D_col directory\n",
    "os.chdir('/home/ariviere/Programmes/ginette/application/Destin/')\n",
    "\n",
    "from setup_model import *\n",
    "\n",
    "import setup_model\n",
    "reload(setup_model)\n",
    "\n",
    "\n",
    "libs_gfortran = ['gfortran']\n",
    "# please compile ginette in the folder 1D_col\n",
    "\n",
    "\n",
    "\n",
    "\n",
    "\n",
    "\n"
   ]
  },
  {
   "cell_type": "markdown",
   "metadata": {},
   "source": [
    "## Parametres"
   ]
  },
  {
   "cell_type": "code",
   "execution_count": 2,
   "metadata": {},
   "outputs": [],
   "source": [
    "#-----------------------------------------------------------------\n",
    "########### Setup of the model\n",
    "#_________________________________________________________________\n",
    "#time step in \n",
    "dt=1\n",
    "# time reading of the BC in seconds\n",
    "itlecture=600\n",
    "#duration of the simulation in days\n",
    "nb_day=15\n",
    "# state\n",
    "## 0 steady state\n",
    "# 1 transient state (dynamic state)\n",
    "state=1\n",
    "\n",
    "# size columnin meter\n",
    "z_top=169.4\n",
    "\n",
    "#altitude column bottom in meter\n",
    "z_bottom=169.4-15\n",
    "\n",
    "#discretisation : size cell in meter\n",
    "dz=0.1\n",
    "\n",
    "#apply unsaturated flow and thermal \n",
    "#unsat =1 apply\n",
    "#unsat=0 cancel unsaturated zone\n",
    "unsat=1\n",
    "#_________________________________________________________________\n",
    "\n",
    "######### PARAMETERS \n",
    "#-----------------------------------------------------------------\n",
    "# number of facies in the column. If nb_zone=1 homognous porous media\n",
    "nb_zone=3\n",
    "# constant parameters\n",
    "## val_k intrinsic permeability [m2]  \n",
    "## K hydraulic conductivity [m.s-1] k=val_k*mu/(rho*g)\n",
    "## mu viscosity [Pa.s]\n",
    "## rho density [kg.m-3]\n",
    "## g gravity  9.81 [m2.s-1]\n",
    "# porosity [-]\n",
    "# nVG van genuchten parameter [-]\n",
    "# a van genuchten parameter [-]\n",
    "# swres residual saturation [-]\n",
    "\n",
    "\n",
    "# Exemple de valeurs pour 3 zones\n",
    "val_k_list = [1e-13, 5e-13, 1e-13,1e-13]  # Valeurs de k pour chaque zone\n",
    "val_n_list = [0.35, 0.2, 0.3, 0.3]  # Valeurs de n pour chaque zone\n",
    "val_a_list = [2, 2, 4, 4]  # Valeurs de a pour chaque zone\n",
    "val_nVG_list = [2, 2.4, 2, 2]  # Valeurs de nVG pour chaque zone\n",
    "val_swres_list = [0, 0.1, 0.15*0.3, 0.15*0.3]  # Valeurs de swres pour chaque zone\n",
    "geom_zone_list=[0.3, 1, 1,11]  # Valeurs de geom pour chaque zone\n",
    "\n",
    "\n"
   ]
  },
  {
   "cell_type": "markdown",
   "metadata": {},
   "source": [
    "# files of boundary conditions"
   ]
  },
  {
   "cell_type": "code",
   "execution_count": null,
   "metadata": {},
   "outputs": [],
   "source": [
    "# Boundary condition water level (meter)\n",
    "#-----------------------------------------------------------------\n",
    "## z=0 : dirichlet condition when hydraulic head is above z_top and neuman condition when hydraulic head is below z_top\n",
    "### create boundary condition  hydraulic head increase with sin function in 4 days and decrease in 4 days amplitude 2m\n",
    "### hydraulic head at the top of the column h_top(t)\n",
    "### create funtion h_top(t) with a sin function in dataframe\n",
    "\n",
    "\n",
    "\n",
    "#read data\n",
    "data_BC=pd.read_csv('data_hydro_P95-B52.txt')\n",
    "\n",
    "# write E_ec_bc_t.dat with column 1 B52(m) and column 2 0.0\n",
    "data_BC['bottom']=0.0\n",
    "data_BC['B52(m)']=data_BC['B52(m)']+z_top\n",
    "data=data_BC[['B52(m)','bottom']]\n",
    "data.to_csv('E_ec_bc_t.dat', sep=' ', index=False, header=False)\n",
    "val_WT=data_BC['P95(m.a.s.l)'][0]\n",
    "#calculate the time between observations\n",
    "time_measure=data_BC['minutes'][1]-data_BC['minutes'][0]\n",
    "print('time between observations',time_measure*60)\n",
    "#Check the time measure is constant for all data_BC\n",
    "if all(data_BC['minutes'].diff()[1:]-time_measure==0):\n",
    "    print('time between observations is constant')\n",
    "itlecture=int(time_measure*60)\n",
    "max_time=data_BC['minutes'].max()*60/86400\n",
    "print('max time',max_time)\n",
    "nb_day=max_time\n",
    "# Tracé avec une courbe plus arrondie\n",
    "plt.plot(data_BC['minutes']*60, data_BC['B52(m)'])\n",
    "plt.plot(data_BC['minutes']*60, data_BC['P95(m.a.s.l)'])\n",
    "plt.xlabel('Temps (s)')\n",
    "plt.ylabel('Hauteur hydraulique (m)')\n",
    "plt.legend(['B52(m)', 'P95(m.a.s.l)'])\n",
    "plt.show()\n",
    "print(val_WT)"
   ]
  },
  {
   "cell_type": "markdown",
   "metadata": {},
   "source": [
    "# files of boundary conditions"
   ]
  },
  {
   "cell_type": "code",
   "execution_count": null,
   "metadata": {},
   "outputs": [],
   "source": [
    "\n",
    "#-----------------------------------------------------------------\n",
    "# Compile ginette\n",
    "if os.path.isfile('ginette'):\n",
    "    print (\"ginette exist\")\n",
    "else:\n",
    "    print (\"ginette not exist\")\n",
    "    print(\"you must compile ginette in the current directory\")\n",
    "    print(\" gfortran -o ginette ../../src/ginette_V2.f\")\n",
    "    subprocess.call([\"gfortran\",\"-o\",\"ginette\",\"../../src/ginette_V2.f\"])  #creat\n",
    "\n",
    "\n",
    "\n",
    "nb_cell=domain_state_time(z_top,z_bottom,dz,dt,state,nb_day,unsat)\n",
    "coord=geometry(z_top,z_bottom,dz,nb_zone)\n",
    "initial_boundary_condition(val_WT,itlecture)\n",
    "parameter_zone_geometrie(nb_zone,geom_zone_list,dz,z_top,z_bottom)\n",
    "# delete the file E_parametre_zone.dat\n",
    "if os.path.isfile('E_zone_parameter.dat'):\n",
    "    os.remove('E_zone_parameter.dat')\n",
    "for i in range(nb_zone):\n",
    "    parameter_zone_value(i+1, val_k_list[i], val_n_list[i], val_a_list[i], val_nVG_list[i],val_swres_list[i])\n",
    "\n"
   ]
  },
  {
   "cell_type": "markdown",
   "metadata": {},
   "source": [
    "## 2. Run the simulation"
   ]
  },
  {
   "cell_type": "code",
   "execution_count": null,
   "metadata": {},
   "outputs": [],
   "source": [
    "# run ginette\n",
    "subprocess.call([\"./ginette\"])"
   ]
  },
  {
   "cell_type": "markdown",
   "metadata": {},
   "source": [
    "# Profile saturation référence au bo"
   ]
  },
  {
   "cell_type": "code",
   "execution_count": null,
   "metadata": {},
   "outputs": [],
   "source": [
    "# read the saturation profil   \n",
    "saturation_profile_REF = pd.read_table('S_saturation_profil_t.dat',delim_whitespace=True,header=None,names=[ \"time\",  \"z\",\"sat\"])\n",
    "saturation_profile_val=saturation_profile_REF.iloc[saturation_profile_REF.index.stop-int(nb_cell):saturation_profile_REF.index.stop]\n"
   ]
  },
  {
   "cell_type": "code",
   "execution_count": null,
   "metadata": {},
   "outputs": [],
   "source": [
    "# Trouver les valeurs uniques de temps\n",
    "unique_times = saturation_profile_REF['time'].unique()\n",
    "\n",
    "plt.figure(figsize=(10, 6))  # Définir la taille de la figure\n",
    "plt.style.use('seaborn')  # Utiliser le style seaborn\n",
    "# Créer un mapping de chaque valeur unique de temps à un indice numérique\n",
    "time_indices = {time: index for index, time in enumerate(sorted(unique_times))}\n",
    "\n",
    "plt.figure(figsize=(10, 6))\n",
    "plt.style.use('seaborn')\n",
    "\n",
    "# Créer un colormap\n",
    "cmap = plt.cm.viridis\n",
    "\n",
    "# Itérer sur chaque valeur unique de temps\n",
    "for time in unique_times:\n",
    "    data_for_time = saturation_profile_REF[saturation_profile_REF['time'] == time]\n",
    "    # Utiliser le colormap pour choisir la couleur en fonction de l'indice du temps\n",
    "    plt.scatter(data_for_time['sat'], data_for_time['z'], \n",
    "                label=f'Time = {time}', \n",
    "                c=[cmap(time_indices[time] / len(unique_times))])\n",
    "\n",
    "plt.xlabel('sat')\n",
    "plt.ylabel('z')\n",
    "plt.title('Saturation en fonction de z pour chaque temps')\n",
    "\n",
    "# Créer une colorbar\n",
    "sm = plt.cm.ScalarMappable(cmap=cmap, norm=plt.Normalize(vmin=min(unique_times), vmax=max(unique_times)))\n",
    "plt.colorbar(sm, label='Time')\n",
    "\n",
    "plt.show()"
   ]
  },
  {
   "cell_type": "code",
   "execution_count": null,
   "metadata": {},
   "outputs": [],
   "source": [
    "h_profile_REF = pd.read_table('S_pressure_profil_t.dat',delim_whitespace=True,header=None,names=[ \"time\",  \"z\",\"pressure\",\"h\"])\n",
    "#hydraulic head for the min z \n",
    "\n",
    "min_z=z_top-1\n",
    "# find nearest value to min_z\n",
    "\n",
    "h_profile_val=h_profile_REF[(h_profile_REF['z']<=min_z+dz)&(h_profile_REF['z']>=min_z-dz)]\n",
    "plt.figure()\n",
    "plt.style.use('seaborn')\n",
    "plt.scatter(h_profile_val.time,h_profile_val.h, s=10, alpha=1, color='mediumblue',marker='.')\n",
    "plt.scatter(data_BC['minutes']*60, data_BC['P95(m.a.s.l)'], s=10, alpha=1, color='red',marker='.')"
   ]
  },
  {
   "cell_type": "markdown",
   "metadata": {},
   "source": []
  }
 ],
 "metadata": {
  "kernelspec": {
   "display_name": "Python 3",
   "language": "python",
   "name": "python3"
  },
  "language_info": {
   "codemirror_mode": {
    "name": "ipython",
    "version": 3
   },
   "file_extension": ".py",
   "mimetype": "text/x-python",
   "name": "python",
   "nbconvert_exporter": "python",
   "pygments_lexer": "ipython3",
   "version": "3.10.12"
  }
 },
 "nbformat": 4,
 "nbformat_minor": 2
}
