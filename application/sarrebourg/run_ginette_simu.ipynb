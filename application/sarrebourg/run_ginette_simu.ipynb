{
 "cells": [
  {
   "cell_type": "markdown",
   "metadata": {},
   "source": [
    "# First script inversion of the ZNS parameters\n",
    "\n",
    "Thanks to this script we will carry out an inversion of the parameters of the unsaturated area, the porosity and the depth of the water table in steady state from a valerence simulation sampled in 100 points. The heat transfer takes place in a one-dimensional soil of height 1m represented. \n",
    "\n",
    "The inversion will focus on the four uncertain parameters and one boundary condition of this model, namely:\n",
    "\n",
    "- the porosity $n$\n",
    "- the alpha Van Genuchten parameter $\\alpha$,\n",
    "- the $n$ Van Genuchten parameter, \n",
    "- the residual saturation $s_wres$, and\n",
    "- the water table altitude (WT).\n",
    "\n",
    "\n",
    "Fill the E_temperature_initiale.dat with the initial temperature profile\n",
    "\n",
    "\n",
    "\n"
   ]
  },
  {
   "cell_type": "markdown",
   "metadata": {},
   "source": [
    "# 1 Fill parameters and setup"
   ]
  },
  {
   "cell_type": "code",
   "execution_count": 13,
   "metadata": {},
   "outputs": [],
   "source": [
    "import os\n",
    "import numpy as np\n",
    "from pathlib import Path\n",
    "import pandas as pd\n",
    "import array\n",
    "from scipy import interpolate\n",
    "import matplotlib.pyplot as plt\n",
    "import matplotlib as mpl\n",
    "from IPython.display import display\n",
    "import subprocess\n",
    "import itertools\n",
    "libs_gfortran = ['gfortran']\n",
    "# please compile ginette in the folder 1D_col\n",
    "# path of the 1D_col directory\n",
    "os.chdir('/home/ariviere/Programmes/ginette/application/sarrebourg/')\n",
    "\n",
    "\n",
    "\n",
    "\n"
   ]
  },
  {
   "cell_type": "code",
   "execution_count": 14,
   "metadata": {},
   "outputs": [],
   "source": [
    "def domain_state_time(z_top,z_bottom,dz,dt,state,nb_day,unsat):\n",
    "    az=abs(z_top-z_bottom)\n",
    "    # number of cell\n",
    "    # ## write the parameters\n",
    "    nb_cell=abs(z_top-z_bottom)/dz\n",
    "#-----------------------------------------------------------------\n",
    "    ## write the setup of the moddeled domain\n",
    "    f_param_bck=open(\"E_parametre_backup.dat\", \"r\")\n",
    "    f_param_new = open(\"E_parametre.dat\", 'w')\n",
    "    setup_model=f_param_bck.read()\n",
    "    setup_model=setup_model.replace('[dt]','%06.0fD+00' % dt)\n",
    "    setup_model=setup_model.replace('[state]','%1i' % state)\n",
    "    setup_model=setup_model.replace('[nb_day]','%06.0f' % nb_day)\n",
    "    setup_model=setup_model.replace('[z_top]', '%7.3e' % z_top)\n",
    "    setup_model=setup_model.replace('[dz]','%6.2e' % dz)\n",
    "    setup_model=setup_model.replace('[nb_cell]','%05.0f' % nb_cell)\n",
    "    setup_model=setup_model.replace('[unsat]','%1i' % unsat)\n",
    "    setup_model=setup_model.replace('[dt]','%06.0fD+00' % dt)\n",
    "    setup_model=setup_model.replace('[z_bottom]', '%7.3e' % z_bottom)\n",
    "    setup_model=setup_model.replace('[az]','%7.3e' % az)\n",
    "\n",
    "\n",
    "\n",
    "    f_param_new.write(setup_model)\n",
    "    f_param_bck.close()\n",
    "    f_param_new.close()\n",
    "\n",
    "\n",
    "    return nb_cell"
   ]
  },
  {
   "cell_type": "code",
   "execution_count": 15,
   "metadata": {},
   "outputs": [],
   "source": [
    "def geometry(z_top,z_bottom,dz,nb_zone):    \n",
    "        ########### Zone of parameters\n",
    "    f_coor=open(\"E_coordonnee.dat\", \"w\")\n",
    "    f_zone=open(\"E_zone.dat\", 'w')\n",
    "    coord=pd.DataFrame()\n",
    "    # calculate the coordinates to know the number of cell in the domain    \n",
    "    # Coordinate  \n",
    "    zvalues =  np.sort(np.arange(z_bottom+dz/2,z_top,dz ))[::-1]\n",
    "\n",
    "    xvalues = np.array([0.5]) # 1D column\n",
    "    zz, xx = np.meshgrid(zvalues, xvalues)\n",
    "    NT = np.prod(zz.shape)\n",
    "    data = {\n",
    "        \"x\": np.reshape(xx,NT),\n",
    "        \"z\": np.reshape(zz,NT)}\n",
    "    coord = pd.DataFrame(data=data)\n",
    "    coord['id']=coord.index.values.astype(int)\n",
    "    coord['id']=coord['id']+1\n",
    "    cols = coord.columns.tolist()\n",
    "    cols = cols[-1:] + cols[:-1]\n",
    "    coord = coord[cols] \n",
    "    coord.to_csv(f_coor, index = False, sep=' ', header=False)\n",
    "    #zone parameter by cell ((homogenous domain = 1 zone))\n",
    "    coord['zone'] =1\n",
    "    #Pour plusieurs zones modification TH\n",
    "    # if nb_zone >= 2:\n",
    "    #     for i in range(2,int(nb_zone)+1):\n",
    "    #         coord['zone'] = np.where(coord['z'] <= coord.loc[((i-1)*z_top*100/nb_zone),'z'], i,coord['zone'])\n",
    "            \n",
    "    \n",
    "    #coord['zone'] = np.where(coord['z'] <= coord.loc[i-1,'z'], i,coord['zone'])\n",
    "            #coord['zone'] = np.where(coord['z'] <= thk2, 2,coord['zone'])\n",
    "\n",
    "\n",
    "\n",
    "    coord.zone.to_csv(f_zone, index=False, header=False)\n",
    "    \n",
    "    # close files    \n",
    "    f_zone.close()\n",
    "    f_coor.close()\n",
    "    return coord\n",
    "    "
   ]
  },
  {
   "cell_type": "code",
   "execution_count": 16,
   "metadata": {},
   "outputs": [],
   "source": [
    "def initial_boundary_condition(val_WT,itlecture):\n",
    "    # Initial conditions\n",
    "    f_IC_bck=open(\"E_cdt_initiale_backup.dat\",\"r\")\n",
    "    IC_model=f_IC_bck.read()\n",
    "    IC_model=IC_model.replace('[head_ini]', '%05.2fD+00' % val_WT)\n",
    "\n",
    "    ## write the boundary conditions\n",
    "    f_bc_bck=open(\"E_cdt_aux_limites_backup.dat\", \"r\")\n",
    "    bc_model=f_bc_bck.read()\n",
    "    bc_model=bc_model.replace('[top]', '%08.2fD+00' % val_WT)\n",
    "    bc_model=bc_model.replace('[bot]','%08.2fD+00' % val_WT)\n",
    "    bc_model=bc_model.replace('[itlecture]', '%8i' % itlecture)   \n",
    "    f_bc_new = open(\"E_cdt_aux_limites.dat\", 'w')\n",
    "    f_IC_new=open(\"E_cdt_initiale.dat\",\"w\")\n",
    "    #Write new ginette files\n",
    "    f_IC_new.write(IC_model)\n",
    "    f_bc_new.write(bc_model)\n",
    "    f_IC_new.close()\n",
    "    f_IC_bck.close()\n",
    "    f_bc_bck.close()\n",
    "    f_bc_new.close()"
   ]
  },
  {
   "cell_type": "code",
   "execution_count": 17,
   "metadata": {},
   "outputs": [],
   "source": [
    "def parameter_zone_value(val_k,val_n,val_a,val_nVG,val_swres):\n",
    "    ########### Zone of parameters\n",
    "    f_paramZ_bck=open(\"E_zone_parameter_backup.dat\", \"r\")\n",
    "    f_paramZ_new = open(\"E_zone_parameter.dat\", 'w')\n",
    "    param_zone=f_paramZ_bck.read()\n",
    "    # replace the parameter values\n",
    "    param_zone=param_zone.replace('[k1]','%8.2e' % val_k)\n",
    "    param_zone=param_zone.replace('[n1]','%6.2f' % val_n)\n",
    "    param_zone=param_zone.replace('[a1]','%8.2e' % val_a)\n",
    "    param_zone=param_zone.replace('[nVG1]','%6.2f' % val_nVG)\n",
    "    param_zone=param_zone.replace('[swres1]','%6.2f' % val_swres)\n",
    "    \n",
    "    f_paramZ_new.write(param_zone)\n",
    "    f_paramZ_new.close()\n",
    "    f_paramZ_bck.close()"
   ]
  },
  {
   "cell_type": "markdown",
   "metadata": {},
   "source": [
    "## Parametres"
   ]
  },
  {
   "cell_type": "code",
   "execution_count": 18,
   "metadata": {},
   "outputs": [
    {
     "name": "stdout",
     "output_type": "stream",
     "text": [
      "Current working directory: /home/ariviere/Programmes/ginette/application/sarrebourg\n"
     ]
    }
   ],
   "source": [
    "#-----------------------------------------------------------------\n",
    "########### Setup of the model\n",
    "#name of file boundary condition\n",
    "name_pluie_file='Pluvio.csv'\n",
    "name_piezo_file='PZ3.csv'\n",
    "BC_files=\"./BC_files/\"\n",
    "#time step in s\n",
    "dt=86400\n",
    "#duration of the simulation in days\n",
    "nb_day=10\n",
    "# state\n",
    "## 0 steady state\n",
    "# 1 transient state (dynamic state)\n",
    "state=1\n",
    "\n",
    "# size columnin meter\n",
    "z_top=20\n",
    "\n",
    "#altitude column bottom in meter\n",
    "z_bottom=0\n",
    "\n",
    "#discretisation : size cell in meter\n",
    "dz=0.01\n",
    "\n",
    "#apply unsaturated flow and thermal \n",
    "#unsat =1 apply\n",
    "#unsat=0 cancel unsaturated zone\n",
    "unsat=1\n",
    "\n",
    "# number of facies in the column. If nb_zone=1 homognous porous media\n",
    "nb_zone=1\n",
    "######### PARAMETERS \n",
    "#-----------------------------------------------------------------\n",
    "# constant parameters\n",
    "## intrinsic permeability [m2]  k=K*mu/(rho*g)\n",
    "## K hydraulic conductivity [m.s-1]\n",
    "## mu viscosity [Pa.s]\n",
    "## rho density [kg.m-3]\n",
    "## g gravity  9.81 [m2.s-1]\n",
    "val_k=3.33333333333333e-12\n",
    "# solid grain density rho_s=val_r  [kg.m-3]\n",
    "val_r=2578\n",
    "# porosity\n",
    "val_n=0.38 # \\Phi\n",
    "\n",
    "# Van Genuchten parameters\n",
    "val_a=1.50000 #m-1 alpha_vg\n",
    "val_nVG= 1.8  # n_vg\n",
    "val_swres=0.1 # S_wr\n",
    "# Boundary condition water level (meter)\n",
    "val_WT=0.\n",
    "itlecture=300\n",
    "\n",
    "# Print the current working directory\n",
    "print(\"Current working directory: {0}\".format(os.getcwd()))"
   ]
  },
  {
   "cell_type": "markdown",
   "metadata": {},
   "source": [
    "## 2. files of boundary conditions"
   ]
  },
  {
   "cell_type": "code",
   "execution_count": 19,
   "metadata": {},
   "outputs": [
    {
     "name": "stdout",
     "output_type": "stream",
     "text": [
      "dates    datetime64[ns]\n",
      "piezo           float64\n",
      "dtype: object\n",
      "                dates     piezo\n",
      "0 2022-12-30 00:00:00 -1.956000\n",
      "1 2022-12-30 00:05:00 -1.956118\n",
      "2 2022-12-30 00:10:00 -1.956236\n",
      "3 2022-12-30 00:15:00 -1.956354\n",
      "4 2022-12-30 00:20:00 -1.956472\n",
      "2020-08-01 00:05:00\n",
      "                dates  pluvio  cumul  piezo\n",
      "0 2020-08-01 00:05:00     0.0    0.0    NaN\n",
      "1 2020-08-01 00:10:00     0.0    0.0    NaN\n",
      "2 2020-08-01 00:15:00     0.0    0.0    NaN\n",
      "3 2020-08-01 00:20:00     0.0    0.0    NaN\n",
      "4 2020-08-01 00:25:00     0.0    0.0    NaN\n"
     ]
    }
   ],
   "source": [
    "# Obtenez la liste des fichiers dans le répertoire\n",
    "fichiers = os.listdir(BC_files)\n",
    "\n",
    "info = None\n",
    "BC_all = None\n",
    "\n",
    "for fichier in fichiers:\n",
    "    if fichier.endswith('.csv'):\n",
    "        if 'PZ' in fichier:\n",
    "            # read date and float values # #force float values\n",
    "            all_p = pd.read_csv(os.path.join(BC_files, fichier),decimal='.',sep=',',header=None)\n",
    "            all_p.rename(columns={all_p.columns[0]: 'dates'}, inplace=True)\n",
    "            all_p.rename(columns={all_p.columns[1]: 'piezo'}, inplace=True)\n",
    "            all_p.piezo= all_p.piezo.astype(float)\n",
    "            all_p['dates']=pd.to_datetime(all_p['dates'],format='%Y-%m-%d %H:%M:%S',errors='coerce')\n",
    "            print(all_p.dtypes)\n",
    "        elif 'Pluvio' in fichier:\n",
    "            all_r = pd.read_csv(os.path.join(BC_files, fichier))\n",
    "            all_r.rename(columns={all_r.columns[0]: 'dates'}, inplace=True)\n",
    "            all_r.rename(columns={all_r.columns[1]: 'pluvio'}, inplace=True)\n",
    "            all_r.rename(columns={all_r.columns[2]: 'cumul'}, inplace=True)\n",
    "            all_r['dates']=pd.to_datetime(all_r['dates'],format='%d/%m/%Y %H:%M:%S',errors='coerce')\n",
    "print(all_p.head())\n",
    "    \n",
    "BC_all = pd.merge(all_r, all_p, on='dates', how='outer')\n",
    "print(BC_all['dates'].iloc[0])\n",
    "print(BC_all.head())"
   ]
  },
  {
   "cell_type": "code",
   "execution_count": 20,
   "metadata": {},
   "outputs": [
    {
     "name": "stdout",
     "output_type": "stream",
     "text": [
      "ginette exist\n"
     ]
    },
    {
     "data": {
      "text/html": [
       "<div>\n",
       "<style scoped>\n",
       "    .dataframe tbody tr th:only-of-type {\n",
       "        vertical-align: middle;\n",
       "    }\n",
       "\n",
       "    .dataframe tbody tr th {\n",
       "        vertical-align: top;\n",
       "    }\n",
       "\n",
       "    .dataframe thead th {\n",
       "        text-align: right;\n",
       "    }\n",
       "</style>\n",
       "<table border=\"1\" class=\"dataframe\">\n",
       "  <thead>\n",
       "    <tr style=\"text-align: right;\">\n",
       "      <th></th>\n",
       "      <th>id</th>\n",
       "      <th>x</th>\n",
       "      <th>z</th>\n",
       "      <th>zone</th>\n",
       "    </tr>\n",
       "  </thead>\n",
       "  <tbody>\n",
       "    <tr>\n",
       "      <th>0</th>\n",
       "      <td>1</td>\n",
       "      <td>0.5</td>\n",
       "      <td>19.995</td>\n",
       "      <td>1</td>\n",
       "    </tr>\n",
       "    <tr>\n",
       "      <th>1</th>\n",
       "      <td>2</td>\n",
       "      <td>0.5</td>\n",
       "      <td>19.985</td>\n",
       "      <td>1</td>\n",
       "    </tr>\n",
       "    <tr>\n",
       "      <th>2</th>\n",
       "      <td>3</td>\n",
       "      <td>0.5</td>\n",
       "      <td>19.975</td>\n",
       "      <td>1</td>\n",
       "    </tr>\n",
       "    <tr>\n",
       "      <th>3</th>\n",
       "      <td>4</td>\n",
       "      <td>0.5</td>\n",
       "      <td>19.965</td>\n",
       "      <td>1</td>\n",
       "    </tr>\n",
       "    <tr>\n",
       "      <th>4</th>\n",
       "      <td>5</td>\n",
       "      <td>0.5</td>\n",
       "      <td>19.955</td>\n",
       "      <td>1</td>\n",
       "    </tr>\n",
       "  </tbody>\n",
       "</table>\n",
       "</div>"
      ],
      "text/plain": [
       "   id    x       z  zone\n",
       "0   1  0.5  19.995     1\n",
       "1   2  0.5  19.985     1\n",
       "2   3  0.5  19.975     1\n",
       "3   4  0.5  19.965     1\n",
       "4   5  0.5  19.955     1"
      ]
     },
     "execution_count": 20,
     "metadata": {},
     "output_type": "execute_result"
    }
   ],
   "source": [
    "\n",
    "#-----------------------------------------------------------------\n",
    "# Compile ginette\n",
    "if os.path.isfile('ginette'):\n",
    "    print (\"ginette exist\")\n",
    "else:\n",
    "    print (\"ginette not exist\")\n",
    "    print(\"you must compile ginette in the current directory\")\n",
    "    print(\" gfortran -o ginette ../../src/ginette_V2.f\")\n",
    "    subprocess.call([\"gfortran\",\"-o\",\"ginette\",\"../../src/ginette_V2.f\"])  #creat\n",
    "\n",
    "\n",
    "\n",
    "nb_cell=domain_state_time(z_top,z_bottom,dz,dt,state,nb_day,unsat)\n",
    "coord=geometry(z_top,z_bottom,dz,nb_zone)\n",
    "initial_boundary_condition(val_WT,itlecture)\n",
    "parameter_zone_value(val_k,val_n,val_a,val_nVG,val_swres)\n",
    "coord.head()\n"
   ]
  },
  {
   "cell_type": "markdown",
   "metadata": {},
   "source": [
    "## 2. Run the simulation"
   ]
  },
  {
   "cell_type": "code",
   "execution_count": null,
   "metadata": {},
   "outputs": [],
   "source": [
    "# run ginette\n",
    "subprocess.call([\"./ginette\"])"
   ]
  },
  {
   "cell_type": "markdown",
   "metadata": {},
   "source": [
    "# Profile saturation référence au bout de 2 jours"
   ]
  },
  {
   "cell_type": "code",
   "execution_count": 9,
   "metadata": {},
   "outputs": [],
   "source": [
    "# read the saturation profil   \n",
    "saturation_profile_REF = pd.read_table('S_saturation_profil_t.dat',delim_whitespace=True,header=None)\n",
    "saturation_profile_REF.columns=[ \"time\",  \"z\",\"sat\"]\n",
    "saturation_profile_val=saturation_profile_REF.iloc[saturation_profile_REF.index.stop-int(nb_cell):saturation_profile_REF.index.stop]\n"
   ]
  },
  {
   "cell_type": "code",
   "execution_count": 10,
   "metadata": {},
   "outputs": [
    {
     "name": "stderr",
     "output_type": "stream",
     "text": [
      "/tmp/ipykernel_37045/3646361116.py:2: MatplotlibDeprecationWarning: The seaborn styles shipped by Matplotlib are deprecated since 3.6, as they no longer correspond to the styles shipped by seaborn. However, they will remain available as 'seaborn-v0_8-<style>'. Alternatively, directly use the seaborn API instead.\n",
      "  plt.style.use('seaborn')\n"
     ]
    },
    {
     "data": {
      "image/png": "[encoded data removed]",
      "text/plain": [
       "<Figure size 640x480 with 1 Axes>"
      ]
     },
     "metadata": {},
     "output_type": "display_data"
    }
   ],
   "source": [
    "plt.figure()\n",
    "plt.style.use('seaborn')\n",
    "\n",
    "plt.scatter(saturation_profile_REF.sat,saturation_profile_REF.z, s=10, alpha=1, color='mediumblue',marker='.')\n",
    "plt.xlabel('Saturation')\n",
    "plt.xlabel('Saturation')\n",
    "plt.ylabel('z (m)')\n",
    "plt.show()"
   ]
  },
  {
   "cell_type": "markdown",
   "metadata": {},
   "source": []
  }
 ],
 "metadata": {
  "kernelspec": {
   "display_name": "Python 3",
   "language": "python",
   "name": "python3"
  },
  "language_info": {
   "codemirror_mode": {
    "name": "ipython",
    "version": 3
   },
   "file_extension": ".py",
   "mimetype": "text/x-python",
   "name": "python",
   "nbconvert_exporter": "python",
   "pygments_lexer": "ipython3",
   "version": "3.10.12"
  }
 },
 "nbformat": 4,
 "nbformat_minor": 2
}
