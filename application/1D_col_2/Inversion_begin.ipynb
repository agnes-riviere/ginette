{
 "cells": [
  {
   "cell_type": "markdown",
   "metadata": {},
   "source": [
    "# First script inversion of the ZNS parameters\n",
    "\n",
    "Thanks to this script we will carry out an inversion of the parameters of the unsaturated area, the porosity and the depth of the water table in steady state from a reference simulation sampled in 100 points. The heat transfer takes place in a one-dimensional soil of height 1m represented. \n",
    "\n",
    "The inversion will focus on the four uncertain parameters and one boundary condition of this model, namely:\n",
    "\n",
    "- the porosity $n$\n",
    "- the alpha Van Genuchten parameter $\\alpha$,\n",
    "- the $n$ Van Genuchten parameter, \n",
    "- the residual saturation $s_wres$, and\n",
    "- the water table altitude (WT).\n",
    "\n",
    "\n",
    "Fill the E_temperature_initiale.dat with the initial temperature profile\n",
    "\n",
    "\n",
    "\n"
   ]
  },
  {
   "cell_type": "markdown",
   "metadata": {},
   "source": [
    "# O. Initiation Ginbette files"
   ]
  },
  {
   "cell_type": "code",
   "execution_count": 2,
   "metadata": {},
   "outputs": [
    {
     "name": "stdout",
     "output_type": "stream",
     "text": [
      "Current working directory: /home/ariviere/Programmes/ginette/application/1D_col_2\n",
      "ginette exist\n"
     ]
    }
   ],
   "source": [
    "#!/usr/bin/env python\n",
    "\n",
    "import os\n",
    "import numpy as np\n",
    "from pathlib import Path\n",
    "import pandas as pd\n",
    "from scipy import interpolate\n",
    "import matplotlib.pyplot as plt\n",
    "import matplotlib as mpl\n",
    "from IPython.display import display\n",
    "import subprocess\n",
    "import itertools\n",
    "libs_gfortran = ['gfortran']\n",
    "# please compile ginette in the folder 1D_col\n",
    "# path of the 1D_col directory\n",
    "os.chdir('/home/ariviere/Programmes/ginette/application/1D_col_2/')\n",
    "# Print the current working directory\n",
    "print(\"Current working directory: {0}\".format(os.getcwd()))\n",
    "\n",
    "#-----------------------------------------------------------------\n",
    "# Compile ginette\n",
    "if os.path.isfile('ginette'):\n",
    "    print (\"ginette exist\")\n",
    "else:\n",
    "    print (\"ginette not exist\")\n",
    "    print(\"you must compile ginette in the current directory\")\n",
    "    print(\" gfortran -o ginette ../../src/ginette_V2.f\")\n",
    "    subprocess.call([\"gfortran\",\"-o\",\"ginette\",\"../../src/ginette_V2.f\"])  #creat\n",
    "\n",
    "#-----------------------------------------------------------------\n",
    "########### Setup of the model\n",
    "\n",
    "#time step in s\n",
    "dt=900\n",
    "#duration of the simulation in days\n",
    "nb_day=2\n",
    "\n",
    "# state\n",
    "## 0 steady state\n",
    "# 1 transient state (dynamic state)\n",
    "state=1\n",
    "\n",
    "# size columnin meter\n",
    "z_top=1\n",
    "\n",
    "#discretisation : size cell in meter\n",
    "dz=0.01\n",
    "\n",
    "#apply unsaturated flow and thermal \n",
    "#unsat =1 apply\n",
    "#unsat=0 cancel unsaturated zone\n",
    "unsat=1\n",
    "\n",
    "# number of facies in the column. If nb_zone=1 homognous porous media\n",
    "nb_zone=1\n",
    "\n",
    "# number of cell\n",
    "nb_cell=z_top/dz\n",
    "#-----------------------------------------------------------------\n",
    "## write the setup of the moddeled domain\n",
    "f_param_bck=open(\"E_parametre_backup.dat\", \"r\")\n",
    "f_param_new = open(\"E_parametre.dat\", 'w')\n",
    "setup_model=f_param_bck.read()\n",
    "setup_model=setup_model.replace('[dt]','%06.0fD+00' % dt)\n",
    "setup_model=setup_model.replace('[state]','%1i' % state)\n",
    "setup_model=setup_model.replace('[nb_day]','%06.0f' % nb_day)\n",
    "setup_model=setup_model.replace('[z_top]', '%7.3e' % z_top)\n",
    "setup_model=setup_model.replace('[az]','%7.3e' % z_top)\n",
    "setup_model=setup_model.replace('[dz]','%6.2e' % dz)\n",
    "setup_model=setup_model.replace('[nb_cell]','%05.0f' % nb_cell)\n",
    "setup_model=setup_model.replace('[unsat]','%1i' % unsat)\n",
    "\n",
    "f_param_new.write(setup_model)\n",
    "f_param_bck.close()\n",
    "f_param_new.close()\n",
    "\n",
    "#-----------------------------------------------------------------\n",
    "# constant parameters\n",
    "## intrinsic permeability [m2]  k=K*mu/(rho*g)\n",
    "## K hydraulic conductivity [m.s-1]\n",
    "## mu viscosity [Pa.s]\n",
    "## rho density [kg.m-3]\n",
    "## g gravity  9.81 [m2.s-1]\n",
    "val_k=3.33333333333333e-15\n",
    "# solid grain density rho_s=val_r  [kg.m-3]\n",
    "val_r=2578\n"
   ]
  },
  {
   "cell_type": "markdown",
   "metadata": {},
   "source": [
    "\n",
    "\n",
    "## 1. Reference simulation and sampling\n",
    "\n",
    "We choose to use the average parameters given by Carsel and Parrish (1988) as reference values for all facies\n"
   ]
  },
  {
   "cell_type": "code",
   "execution_count": 4,
   "metadata": {},
   "outputs": [
    {
     "name": "stderr",
     "output_type": "stream",
     "text": [
      "./ginette: error while loading shared libraries: libgfortran.so.4: cannot open shared object file: No such file or directory\n"
     ]
    },
    {
     "data": {
      "text/plain": [
       "127"
      ]
     },
     "execution_count": 4,
     "metadata": {},
     "output_type": "execute_result"
    }
   ],
   "source": [
    "import numpy as np\n",
    "import pandas as pd\n",
    "import array\n",
    "\n",
    "# porosity\n",
    "REF_n=0.38 # \\Phi\n",
    "\n",
    "# Van Genuchten parameters\n",
    "REF_a=7.50000 #m-1 alpha_vg\n",
    "REF_nVG= 5.00  # n_vg\n",
    "REF_swres=0.01 # S_wr\n",
    "\n",
    "# Heat capacity is calculated  by the following relationship\n",
    "#  c_pm= c_w r_w n  * sat+ c_s r (1-n) + c_a r_a n * (1-sat)\n",
    "# density\n",
    "# c_s solid specific heat capacity\n",
    "#val_c= c_s m2/s2/C I advice to let this value constant.\n",
    "# There are no way to calibrate the both parameter rho and c in the same time.\n",
    "#c_w=4185D+00\t       m2/s2/C\n",
    "#r_w=1000  kg/m3\n",
    "# solid density r=val_r \n",
    "\n",
    "REF_r=1600\n",
    "REF_c=2650\n",
    "REF_l=5 #\n",
    "\n",
    "# Boundary condition water level (meter)\n",
    "REF_WT=0.4\n",
    "\n",
    "\n",
    "\n",
    "# Initial conditions\n",
    "f_IC_bck=open(\"E_cdt_initiale_backup.dat\",\"r\")\n",
    "IC_model=f_IC_bck.read()\n",
    "IC_model=IC_model.replace('[head_ini]', '%05.2fD+00' % REF_WT)\n",
    "## write the boundary conditions\n",
    "f_bc_bck=open(\"E_cdt_aux_limites_backup.dat\", \"r\")\n",
    "bc_model=f_bc_bck.read()\n",
    "bc_model=bc_model.replace('[top]', '%08.2fD+00' % REF_WT)\n",
    "bc_model=bc_model.replace('[bot]','%08.2fD+00' % REF_WT)\n",
    "    ########### Zone of parameters\n",
    "f_coor=open(\"E_coordonnee.dat\", \"w\")\n",
    "f_zone=open(\"E_zone.dat\", 'w')\n",
    "f_paramZ_bck=open(\"E_zone_parameter_backup.dat\", \"r\")\n",
    "f_paramZ_new = open(\"E_zone_parameter.dat\", 'w')\n",
    "f_bc_new = open(\"E_cdt_aux_limites.dat\", 'w')\n",
    "f_IC_new=open(\"E_cdt_initiale.dat\",\"w\")\n",
    "param_zone=f_paramZ_bck.read()\n",
    "coord=pd.DataFrame()    \n",
    "#coord = pd.read_csv(f_coor, names=[\"id\", \"x\", \"z\"], header=None, delim_whitespace=True)\n",
    "\n",
    "# replace the parameter values\n",
    "param_zone=param_zone.replace('[k1]','%8.2e' % val_k)\n",
    "param_zone=param_zone.replace('[n1]','%6.2f' % REF_n)\n",
    "param_zone=param_zone.replace('[r1]','%6.2f' % val_r)\n",
    "param_zone=param_zone.replace('[a1]','%8.2e' % REF_a)\n",
    "param_zone=param_zone.replace('[nVG1]','%6.2f' % REF_nVG)\n",
    "param_zone=param_zone.replace('[swres1]','%6.2f' % REF_swres)\n",
    "param_zone=param_zone.replace('[l1]','%6.2f' % REF_l)\n",
    "param_zone=param_zone.replace('[c1]','%6.2f' % REF_c)\n",
    "param_zone=param_zone.replace('[r1]','%6.2f' % REF_r)\n",
    "    \n",
    "# calculate the coordinates to know the number of cell in the domain    \n",
    "zvalues = np.arange(dz/2, z_top,dz );\n",
    "xvalues = np.array([0.5]);\n",
    "zz, xx = np.meshgrid(zvalues, xvalues)\n",
    "NT = np.product(zz.shape)\n",
    "data = {\n",
    "    \"x\": np.reshape(xx,NT),\n",
    "    \"z\": np.reshape(zz,NT)}\n",
    "coord = pd.DataFrame(data=data)\n",
    "coord['id']=coord.index.values.astype(int)\n",
    "coord['id']=coord['id']+1\n",
    "cols = coord.columns.tolist()\n",
    "cols = cols[-1:] + cols[:-1]\n",
    "coord = coord[cols] \n",
    "coord.to_csv(f_coor, index = False, sep=' ', header=False)\n",
    "#zone parameter by cell ((homogenous domain = 1 zone))\n",
    "coord['zone'] =1\n",
    "\n",
    "\n",
    "\n",
    "#Write new ginette files\n",
    "f_IC_new.write(IC_model)\n",
    "f_paramZ_new.write(param_zone)\n",
    "f_bc_new.write(bc_model)\n",
    "coord.zone.to_csv(f_zone, index = False, header=False)\n",
    "    \n",
    "# close files    \n",
    "f_zone.close()\n",
    "f_coor.close()\n",
    "f_paramZ_new.close()\n",
    "f_paramZ_bck.close()\n",
    "\n",
    "f_IC_new.close()\n",
    "f_bc_bck.close()\n",
    "f_bc_new.close()\n",
    "f_coor.close()\n",
    "\n",
    "\n",
    "# run ginette\n",
    "subprocess.call([\"./ginette\"])\n",
    "    \n",
    "\n",
    "\n"
   ]
  },
  {
   "cell_type": "markdown",
   "metadata": {},
   "source": [
    "# Profile saturation référence au bout de 2 jours"
   ]
  },
  {
   "cell_type": "code",
   "execution_count": 5,
   "metadata": {},
   "outputs": [],
   "source": [
    "# read the saturation profil   \n",
    "saturation_profile_REF = pd.read_table('S_saturation_profil_t.dat',delim_whitespace=True,header=None)\n",
    "saturation_profile_REF.columns=[ \"time\",  \"z\",\"sat\"]\n",
    "saturation_profile_REF=saturation_profile_REF.iloc[saturation_profile_REF.index.stop-int(nb_cell):saturation_profile_REF.index.stop]\n"
   ]
  },
  {
   "cell_type": "code",
   "execution_count": 6,
   "metadata": {},
   "outputs": [
    {
     "name": "stderr",
     "output_type": "stream",
     "text": [
      "/tmp/ipykernel_103211/3646361116.py:2: MatplotlibDeprecationWarning: The seaborn styles shipped by Matplotlib are deprecated since 3.6, as they no longer correspond to the styles shipped by seaborn. However, they will remain available as 'seaborn-v0_8-<style>'. Alternatively, directly use the seaborn API instead.\n",
      "  plt.style.use('seaborn')\n"
     ]
    },
    {
     "data": {
      "image/png": "[encoded data removed]",
      "text/plain": [
       "<Figure size 640x480 with 1 Axes>"
      ]
     },
     "metadata": {},
     "output_type": "display_data"
    }
   ],
   "source": [
    "plt.figure()\n",
    "plt.style.use('seaborn')\n",
    "\n",
    "plt.scatter(saturation_profile_REF.sat,saturation_profile_REF.z, s=10, alpha=1, color='mediumblue',marker='.')\n",
    "plt.xlabel('Saturation')\n",
    "plt.xlabel('Saturation')\n",
    "plt.ylabel('z (m)')\n",
    "plt.show()"
   ]
  },
  {
   "cell_type": "markdown",
   "metadata": {},
   "source": [
    " # Profile de temperature au bout de 2 jours"
   ]
  },
  {
   "cell_type": "code",
   "execution_count": 7,
   "metadata": {},
   "outputs": [
    {
     "name": "stderr",
     "output_type": "stream",
     "text": [
      "/tmp/ipykernel_103211/1267379805.py:7: MatplotlibDeprecationWarning: The seaborn styles shipped by Matplotlib are deprecated since 3.6, as they no longer correspond to the styles shipped by seaborn. However, they will remain available as 'seaborn-v0_8-<style>'. Alternatively, directly use the seaborn API instead.\n",
      "  plt.style.use('seaborn')\n"
     ]
    },
    {
     "data": {
      "image/png": "[encoded data removed]",
      "text/plain": [
       "<Figure size 800x550 with 1 Axes>"
      ]
     },
     "metadata": {},
     "output_type": "display_data"
    }
   ],
   "source": [
    "# read the temperature profile   \n",
    "temperature_profile_REF = pd.read_table('Sim_temperature_profil_t.dat',delim_whitespace=True,header=None)\n",
    "temperature_profile_REF.columns=[ \"time\",  \"z\",\"temp\"]\n",
    "temperature_profile_REF=temperature_profile_REF.iloc[temperature_profile_REF.index.stop-int(nb_cell):temperature_profile_REF.index.stop]\n",
    "\n",
    "plt.figure()\n",
    "plt.style.use('seaborn')\n",
    "\n",
    "plt.scatter(temperature_profile_REF.temp,temperature_profile_REF.z, s=10, alpha=1, color='mediumblue',marker='.')\n",
    "plt.xlabel('temperature (°C)')\n",
    "plt.ylabel('z (m)')\n",
    "plt.show()\n"
   ]
  },
  {
   "cell_type": "markdown",
   "metadata": {},
   "source": [
    "## 2. Screening parmeters\n",
    "### 2.1 Range definition\n"
   ]
  },
  {
   "cell_type": "code",
   "execution_count": 183,
   "metadata": {},
   "outputs": [],
   "source": [
    "dvt_a = 4 \n",
    "dvt_nVG = 4\n",
    "dvt_swres = 0.1\n",
    "dvt_n = 0.1\n",
    "dvt_WT = 0.2\n",
    "dvt_l=4\n",
    "dvt_c=100\n",
    "\n",
    "\n",
    "range_a = [REF_a-dvt_a,REF_a+dvt_a]\n",
    "range_nVG =  [REF_nVG-dvt_nVG,REF_nVG+dvt_nVG]\n",
    "range_swres =  [REF_swres-dvt_swres,REF_swres+dvt_swres]\n",
    "range_n =  [REF_n-dvt_n,REF_n+dvt_n]\n",
    "range_WT =  [REF_WT-dvt_WT,REF_WT+dvt_WT]\n",
    "range_l =  [REF_l-dvt_l,REF_l+dvt_l]"
   ]
  },
  {
   "cell_type": "markdown",
   "metadata": {},
   "source": [
    "### 2.2 Paramétrisation\n",
    "\n",
    "Choice of step values for each of the parameters, the measurement error and the number of sample. The following values are proposed as a first intention, they can be modified if necessary."
   ]
  },
  {
   "cell_type": "code",
   "execution_count": 184,
   "metadata": {},
   "outputs": [],
   "source": [
    "i_a = 4\n",
    "i_nVG = 0.5\n",
    "i_swres = 0.1\n",
    "i_n = 0.1\n",
    "i_WT = 0.1\n",
    "i_l=1"
   ]
  },
  {
   "cell_type": "markdown",
   "metadata": {},
   "source": [
    "### 2.3 loop table param\n",
    "Later, you will use a loop of i over param_all\n"
   ]
  },
  {
   "cell_type": "code",
   "execution_count": 185,
   "metadata": {},
   "outputs": [
    {
     "name": "stdout",
     "output_type": "stream",
     "text": [
      "l\n"
     ]
    },
    {
     "data": {
      "text/html": [
       "<div>\n",
       "<style scoped>\n",
       "    .dataframe tbody tr th:only-of-type {\n",
       "        vertical-align: middle;\n",
       "    }\n",
       "\n",
       "    .dataframe tbody tr th {\n",
       "        vertical-align: top;\n",
       "    }\n",
       "\n",
       "    .dataframe thead th {\n",
       "        text-align: right;\n",
       "    }\n",
       "</style>\n",
       "<table border=\"1\" class=\"dataframe\">\n",
       "  <thead>\n",
       "    <tr style=\"text-align: right;\">\n",
       "      <th></th>\n",
       "      <th>l</th>\n",
       "      <th>a</th>\n",
       "      <th>nVG</th>\n",
       "    </tr>\n",
       "  </thead>\n",
       "  <tbody>\n",
       "    <tr>\n",
       "      <th>0</th>\n",
       "      <td>1</td>\n",
       "      <td>7.5</td>\n",
       "      <td>5.0</td>\n",
       "    </tr>\n",
       "    <tr>\n",
       "      <th>1</th>\n",
       "      <td>2</td>\n",
       "      <td>7.5</td>\n",
       "      <td>5.0</td>\n",
       "    </tr>\n",
       "    <tr>\n",
       "      <th>2</th>\n",
       "      <td>3</td>\n",
       "      <td>7.5</td>\n",
       "      <td>5.0</td>\n",
       "    </tr>\n",
       "    <tr>\n",
       "      <th>3</th>\n",
       "      <td>4</td>\n",
       "      <td>7.5</td>\n",
       "      <td>5.0</td>\n",
       "    </tr>\n",
       "    <tr>\n",
       "      <th>4</th>\n",
       "      <td>5</td>\n",
       "      <td>7.5</td>\n",
       "      <td>5.0</td>\n",
       "    </tr>\n",
       "    <tr>\n",
       "      <th>5</th>\n",
       "      <td>6</td>\n",
       "      <td>7.5</td>\n",
       "      <td>5.0</td>\n",
       "    </tr>\n",
       "    <tr>\n",
       "      <th>6</th>\n",
       "      <td>7</td>\n",
       "      <td>7.5</td>\n",
       "      <td>5.0</td>\n",
       "    </tr>\n",
       "    <tr>\n",
       "      <th>7</th>\n",
       "      <td>8</td>\n",
       "      <td>7.5</td>\n",
       "      <td>5.0</td>\n",
       "    </tr>\n",
       "    <tr>\n",
       "      <th>8</th>\n",
       "      <td>9</td>\n",
       "      <td>7.5</td>\n",
       "      <td>5.0</td>\n",
       "    </tr>\n",
       "  </tbody>\n",
       "</table>\n",
       "</div>"
      ],
      "text/plain": [
       "   l    a  nVG\n",
       "0  1  7.5  5.0\n",
       "1  2  7.5  5.0\n",
       "2  3  7.5  5.0\n",
       "3  4  7.5  5.0\n",
       "4  5  7.5  5.0\n",
       "5  6  7.5  5.0\n",
       "6  7  7.5  5.0\n",
       "7  8  7.5  5.0\n",
       "8  9  7.5  5.0"
      ]
     },
     "execution_count": 185,
     "metadata": {},
     "output_type": "execute_result"
    }
   ],
   "source": [
    "df = pd.DataFrame()\n",
    "param_all=[\"a\",\"nVG\",'l']\n",
    "param=[\"l\"]\n",
    "for i in param:\n",
    "    df[i] = np.arange(eval('range_{}'.format(i))[0],eval('range_{}'.format(i))[1]+eval('i_{}'.format(i)),eval('i_{}'.format(i)))\n",
    "    print(i)\n",
    "    for x in param_all :\n",
    "        if x != i:\n",
    "            df[x] = eval('REF_{}'.format(x))\n",
    "\n",
    "            \n",
    "\n",
    "    \n",
    "df.head(30)"
   ]
  },
  {
   "cell_type": "markdown",
   "metadata": {},
   "source": [
    "### 2.5 Misfit function"
   ]
  },
  {
   "cell_type": "code",
   "execution_count": 169,
   "metadata": {},
   "outputs": [],
   "source": [
    "def rmse(predictions, ref,sigma):\n",
    "    differences = ((predictions - ref)/sigma)                      #the DIFFERENCEs.\n",
    "    differences_squared = differences ** 2                    #the SQUAREs of ^\n",
    "    mean_of_differences_squared = differences_squared.mean()  #the MEAN of ^\n",
    "    rmse_val = np.sqrt(mean_of_differences_squared)           #ROOT of ^\n",
    "\n",
    "    return rmse_val"
   ]
  },
  {
   "cell_type": "markdown",
   "metadata": {},
   "source": [
    "### 2.6 loops of simulations\n",
    "\n",
    "One you're sure all steps work correctly, you will uncoment the loop over the whole table of parameters. Replace all row_1 by df"
   ]
  },
  {
   "cell_type": "code",
   "execution_count": 193,
   "metadata": {},
   "outputs": [
    {
     "data": {
      "image/png": "[encoded data removed]",
      "text/plain": [
       "<Figure size 576x396 with 2 Axes>"
      ]
     },
     "metadata": {},
     "output_type": "display_data"
    }
   ],
   "source": [
    "fig, (ax1, ax2) = plt.subplots(1, 2)\n",
    "ax1.scatter(saturation_profile_REF.sat,saturation_profile_REF.z, s=10, alpha=1, color='mediumblue',marker='.')\n",
    "ax1.set_title('Saturation profile')\n",
    "plt.xlabel('Saturation')\n",
    "plt.ylabel('z (m)')\n",
    "ax2.set_title('Temperature profile')\n",
    "ax2.scatter(temperature_profile_REF.temp,temperature_profile_REF.z, s=10, alpha=1, color='mediumblue',marker='.')\n",
    "plt.xlabel('Temperature')\n",
    "plt.ylabel('z (m)')\n",
    "\n",
    "\n",
    "\n",
    "\n",
    "#row_1=df.head(1)\n",
    "df[\"s\"] = \"\"\n",
    "for index, row in df.iterrows():\n",
    "# Initial conditions\n",
    "    f_IC_bck=open(\"E_cdt_initiale_backup.dat\",\"r\")\n",
    "    IC_model=f_IC_bck.read()\n",
    "    IC_model=IC_model.replace('[head_ini]', '%05.2fD+00' % REF_WT)\n",
    "## write the boundary conditions\n",
    "    f_bc_bck=open(\"E_cdt_aux_limites_backup.dat\", \"r\")\n",
    "    bc_model=f_bc_bck.read()\n",
    "    bc_model=bc_model.replace('[top]', '%08.2fD+00' % REF_WT)\n",
    "    bc_model=bc_model.replace('[bot]','%08.2fD+00' % REF_WT)\n",
    "    ########### Zone of parameters\n",
    "    f_coor=open(\"E_coordonnee.dat\", \"w\")\n",
    "    f_zone=open(\"E_zone.dat\", 'w')\n",
    "    f_paramZ_bck=open(\"E_zone_parameter_backup.dat\", \"r\")\n",
    "    f_paramZ_new = open(\"E_zone_parameter.dat\", 'w')\n",
    "    f_bc_new = open(\"E_cdt_aux_limites.dat\", 'w')\n",
    "    f_IC_new=open(\"E_cdt_initiale.dat\",\"w\")\n",
    "    param_zone=f_paramZ_bck.read()\n",
    "   \n",
    "#coord = pd.read_csv(f_coor, names=[\"id\", \"x\", \"z\"], header=None, delim_whitespace=True)\n",
    "\n",
    "# replace the parameter values\n",
    "# If you wand add more parameters modify this section\n",
    "    param_zone=param_zone.replace('[k1]','%8.2e' % val_k)\n",
    "    param_zone=param_zone.replace('[n1]','%6.2f' % REF_n)\n",
    "    param_zone=param_zone.replace('[r1]','%6.2f' % val_r)\n",
    "    param_zone=param_zone.replace('[a1]','%8.2e' % row['a'])\n",
    "    param_zone=param_zone.replace('[nVG1]','%6.2f' % row['nVG'])\n",
    "    param_zone=param_zone.replace('[swres1]','%6.2f' % REF_swres)\n",
    "    param_zone=param_zone.replace('[l1]','%6.2f' % row['l'])\n",
    "    param_zone=param_zone.replace('[c1]','%6.2f' % REF_c)\n",
    "    param_zone=param_zone.replace('[r1]','%6.2f' % REF_r)\n",
    "    \n",
    "\n",
    "\n",
    "\n",
    "\n",
    "#Write new ginette files\n",
    "    f_IC_new.write(IC_model)\n",
    "    f_paramZ_new.write(param_zone)\n",
    "    f_bc_new.write(bc_model)\n",
    "\n",
    "    \n",
    "# close files    \n",
    "\n",
    "\n",
    "    f_paramZ_new.close()\n",
    "    f_paramZ_bck.close()\n",
    "\n",
    "    f_IC_new.close()\n",
    "    f_bc_bck.close()\n",
    "    f_bc_new.close()\n",
    "\n",
    "\n",
    "\n",
    "# run ginette\n",
    "    subprocess.call([\"./ginette\"])\n",
    "    \n",
    "# read the saturation profil   \n",
    "    saturation_profile = pd.read_table('S_saturation_profil_t.dat',delim_whitespace=True,header=None)\n",
    "    saturation_profile.columns=[ \"time\",  \"z\",\"sat\"]\n",
    "    saturation_profile=saturation_profile.iloc[saturation_profile.index.stop-int(nb_cell):saturation_profile.index.stop]\n",
    "    temperature_profile = pd.read_table('Sim_temperature_profil_t.dat',delim_whitespace=True,header=None)\n",
    "    temperature_profile.columns=[ \"time\",  \"z\",\"temp\"]\n",
    "    temperature_profile=temperature_profile.iloc[temperature_profile.index.stop-int(nb_cell):temperature_profile.index.stop]\n",
    "    #df[\"s\"].at[index ] = rmse(saturation_profile['sat'],saturation_profile_REF['sat'],0.02)\n",
    "    \n",
    "    ax1.scatter(saturation_profile.sat,saturation_profile.z, s=10, alpha=1, color='red',marker='.')\n",
    "    ax1.set_title('Saturation profile')\n",
    "    plt.xlabel('Saturation')\n",
    "    plt.ylabel('z (m)')\n",
    "    ax2.set_title('Temperature profile')\n",
    "    ax2.scatter(temperature_profile.temp,temperature_profile.z, s=10, alpha=1, color='red',marker='.')\n",
    "    plt.xlabel('Temperature')\n",
    "    plt.ylabel('z (m)')\n",
    "\n",
    "\n",
    "plt.show()\n"
   ]
  },
  {
   "cell_type": "code",
   "execution_count": 171,
   "metadata": {},
   "outputs": [
    {
     "data": {
      "text/plain": [
       "19100    14.166618\n",
       "19101    13.657962\n",
       "19102    13.250023\n",
       "19103    12.932254\n",
       "19104    12.694578\n",
       "           ...    \n",
       "19195    15.013939\n",
       "19196    15.010834\n",
       "19197    15.007735\n",
       "19198    15.004640\n",
       "19199    15.001546\n",
       "Name: temp, Length: 100, dtype: float64"
      ]
     },
     "execution_count": 171,
     "metadata": {},
     "output_type": "execute_result"
    }
   ],
   "source": [
    "temperature_profile.temp"
   ]
  },
  {
   "cell_type": "code",
   "execution_count": null,
   "metadata": {},
   "outputs": [],
   "source": []
  }
 ],
 "metadata": {
  "kernelspec": {
   "display_name": "Python 3",
   "language": "python",
   "name": "python3"
  },
  "language_info": {
   "codemirror_mode": {
    "name": "ipython",
    "version": 3
   },
   "file_extension": ".py",
   "mimetype": "text/x-python",
   "name": "python",
   "nbconvert_exporter": "python",
   "pygments_lexer": "ipython3",
   "version": "3.10.12"
  }
 },
 "nbformat": 4,
 "nbformat_minor": 2
}
