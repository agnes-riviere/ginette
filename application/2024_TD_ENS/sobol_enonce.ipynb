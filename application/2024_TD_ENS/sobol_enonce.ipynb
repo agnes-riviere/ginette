{
 "cells": [
  {
   "cell_type": "markdown",
   "metadata": {},
   "source": [
    "# TP Analyse de sensibilité\n",
    "\n",
    "Dans ce TP on va mener une analyse de sensibilité du modèle de transfert de chaleur en milieu poreux en régime permanent dans une portion de zone hyporhéique mono-dimensionnelle de hauteur 1m représentée par 100 cellules. La différence de charge entre le haut et le bas de la colonne est de 5cm.\n",
    "\n",
    "L'analyse de sensibilité portera sur les trois paramètres d'entrée de ce modèle, à savoir :\n",
    "\n",
    "- la perméabilité $K$\n",
    "- la conductivité thermique du solide $\\lambda_s$\n",
    "- la porosité $n$\n",
    "\n",
    "Il convient dans un premier temps de caractériser l'incertitude portant sur ces variables et de la modéliser par une loi de probabilité. On va considérer que ces variables sont indépendantes de lois respectives :\n",
    "\n",
    "- $-\\log_{10} K \\sim \\mathcal{U}(3,10)$\n",
    "- $\\lambda_s \\sim \\mathcal{U}(1,5)$\n",
    "- $n \\sim \\mathcal{U}(0.01,0.25)$\n",
    "\n",
    "ces données étant issues de la littérature.\n",
    "\n",
    "On réalisera l'analyse de sensibilité delon la méthode de Sobol' à l'aide du package [SALib](https://salib.readthedocs.io/en/latest/index.html).\n",
    "\n",
    "## Préambule\n",
    "\n",
    "Chargement de dépendances et initialisation de la colonne.\n",
    "\n",
    "NB : vous pouvez réaliser ce TP à partir de vos propres développements réalisés lors du TP1 ou bien utiliser **pyheat**. Pour ce faire :\n",
    "\n",
    "*git clone https://github.com/flipoyo/pyHeat.git*\n",
    "\n",
    "*git checkout student*\n"
   ]
  },
  {
   "cell_type": "code",
   "execution_count": 5,
   "metadata": {},
   "outputs": [],
   "source": [
    "import numpy as np\n",
    "import matplotlib.pyplot as plt"
   ]
  },
  {
   "cell_type": "code",
   "execution_count": 8,
   "metadata": {},
   "outputs": [
    {
     "name": "stdout",
     "output_type": "stream",
     "text": [
      "Caracteristics of the soil column:\n",
      "\tdepth 1.0 m\n",
      "\tdepth 1.0 m\n",
      "\t 100 cells of side size 0.01 m\n",
      "\tHydraulic Properties of porous media Unknown\n",
      "\t\tpermeability or hydraulic conductivity: 8.000e-04 m s-1\n",
      "\t\tporosity: 1.500e-01 --\n",
      "\tThermal Properties of the phase (pure solid) Soil Column\n",
      "\t\tthermal conductivity:: 2.000e+00 W m-1 K-1\n",
      "\t\tspecific heat capacity:: 9.570e+02 m2 s-2 K-1\n",
      "\t\tdensity:: 2.600e+03 kg m-3\n",
      "\tequivalent parameters of  Soil Column :\n",
      "\t\tequivalent thermal conductivity: : 1.737e+00 W m-1 K-1\n",
      "\t\tequivalent heat capacity: : 2.743e+06 W m-1 K-1\n",
      "\teffective parameters of Soil Column:\n",
      "\t\teffective thermal conductivity: 4.151e-07 m2 s-1\n",
      "\t\teffective advective parameter: 1.221e-03 m s-1\n",
      "Running pyHeat in steady state with the following specs:\n",
      "\tHydraulic Boundary Conditions:\n",
      "\t\tdifferential pressure head (top - bottom) = 0.05 m\n",
      "\tTemperature Boundary Conditions:\n",
      "\t\tTriv = 302.15 K\n",
      "\t\tTaq = 285.15 K\n",
      "\tPhysical properties :\n",
      "\t\tpermeability:: 1.000e-03 m s-1\n",
      "\t\tporosity: 1.000e-01 --\n",
      "\t\tequivalent thermal conductivity:: 1.823e+00 W m-1 K-1\n"
     ]
    },
    {
     "data": {
      "image/png": "[encoded data removed]",
      "text/plain": [
       "<Figure size 640x480 with 1 Axes>"
      ]
     },
     "metadata": {},
     "output_type": "display_data"
    },
    {
     "data": {
      "text/plain": [
       "[302.15000000000003,\n",
       " 302.15,\n",
       " 302.1499999999999,\n",
       " 302.14999999999986,\n",
       " 302.1499999999998,\n",
       " 302.14999999999975,\n",
       " 302.1499999999997,\n",
       " 302.14999999999964,\n",
       " 302.1499999999996,\n",
       " 302.1499999999996,\n",
       " 302.1499999999995,\n",
       " 302.1499999999995,\n",
       " 302.14999999999947,\n",
       " 302.1499999999995,\n",
       " 302.14999999999947,\n",
       " 302.14999999999947,\n",
       " 302.1499999999994,\n",
       " 302.14999999999947,\n",
       " 302.14999999999947,\n",
       " 302.1499999999994,\n",
       " 302.1499999999994,\n",
       " 302.14999999999935,\n",
       " 302.1499999999993,\n",
       " 302.14999999999924,\n",
       " 302.14999999999924,\n",
       " 302.1499999999992,\n",
       " 302.1499999999992,\n",
       " 302.1499999999992,\n",
       " 302.14999999999907,\n",
       " 302.149999999999,\n",
       " 302.14999999999895,\n",
       " 302.14999999999884,\n",
       " 302.1499999999988,\n",
       " 302.1499999999988,\n",
       " 302.14999999999867,\n",
       " 302.1499999999986,\n",
       " 302.1499999999985,\n",
       " 302.14999999999844,\n",
       " 302.1499999999984,\n",
       " 302.14999999999833,\n",
       " 302.1499999999983,\n",
       " 302.1499999999982,\n",
       " 302.1499999999981,\n",
       " 302.14999999999804,\n",
       " 302.14999999999793,\n",
       " 302.1499999999979,\n",
       " 302.1499999999979,\n",
       " 302.14999999999776,\n",
       " 302.1499999999977,\n",
       " 302.14999999999765,\n",
       " 302.14999999999753,\n",
       " 302.1499999999975,\n",
       " 302.1499999999974,\n",
       " 302.14999999999736,\n",
       " 302.1499999999973,\n",
       " 302.1499999999972,\n",
       " 302.14999999999714,\n",
       " 302.149999999997,\n",
       " 302.14999999999696,\n",
       " 302.14999999999696,\n",
       " 302.1499999999969,\n",
       " 302.1499999999968,\n",
       " 302.14999999999674,\n",
       " 302.1499999999966,\n",
       " 302.14999999999657,\n",
       " 302.1499999999965,\n",
       " 302.14999999999645,\n",
       " 302.1499999999964,\n",
       " 302.14999999999634,\n",
       " 302.1499999999962,\n",
       " 302.14999999999617,\n",
       " 302.1499999999961,\n",
       " 302.14999999999606,\n",
       " 302.14999999999594,\n",
       " 302.1499999999958,\n",
       " 302.1499999999956,\n",
       " 302.1499999999949,\n",
       " 302.14999999999264,\n",
       " 302.1499999999843,\n",
       " 302.1499999999536,\n",
       " 302.1499999998405,\n",
       " 302.1499999994226,\n",
       " 302.1499999978793,\n",
       " 302.1499999921776,\n",
       " 302.14999997111266,\n",
       " 302.1499998932886,\n",
       " 302.14999960576773,\n",
       " 302.1499985435212,\n",
       " 302.1499946190489,\n",
       " 302.1499801200765,\n",
       " 302.14992655358725,\n",
       " 302.1497286520603,\n",
       " 302.14899750437934,\n",
       " 302.1462962774628,\n",
       " 302.13631658793446,\n",
       " 302.09944660027315,\n",
       " 301.9632303396082,\n",
       " 301.4599790274567,\n",
       " 299.6007158092048,\n",
       " 292.7316632478388]"
      ]
     },
     "execution_count": 8,
     "metadata": {},
     "output_type": "execute_result"
    }
   ],
   "source": [
    "from codepyheat.geometry import Column\n",
    "from SALib.sample import saltelli\n",
    "from SALib.analyze import sobol\n",
    "from codepyheat import JSONPATH\n",
    "\n",
    "\n",
    "# step 1\n",
    "rivBed = Column.fromJsonFile(JSONPATH + \"configColumn.json\")\n",
    "rivBed.printProps()\n",
    "\n",
    "# step 2\n",
    "rivBed.setHomogeneousPorMed(JSONPATH + \"paramColumn.json\")\n",
    "rivBed.physProp.printProps()\n",
    "\n",
    "# step 3\n",
    "rivBed.setBcHyd(JSONPATH + \"configBcHydro.json\")\n",
    "rivBed.setBcT(JSONPATH + \"configBcTemp.json\")\n",
    "\n",
    "# step 4 running forward model with other parameter values\n",
    "rivBed.runForwardModelSteadyState(1e-3, 2, 0.1,verbose=True, export = True, draw = True) #put the options to False when runnig intensively !\n"
   ]
  },
  {
   "cell_type": "markdown",
   "metadata": {},
   "source": [
    "## Analyse de sensibilité\n",
    "\n",
    "Dans cette partie, on va suivre la démarche décrite dans le [tutoriel](https://salib.readthedocs.io/en/latest/user_guide/basics.html) de *SALib* en l'adaptant à notre problème.\n",
    "\n",
    "### Définition du problème\n"
   ]
  },
  {
   "cell_type": "code",
   "execution_count": 10,
   "metadata": {},
   "outputs": [],
   "source": [
    "Problem = {\n",
    "    'names': ['log10K', 'lambd', 'n'],\n",
    "    'bounds': [[3,10], \n",
    "               [1, 5], \n",
    "               [0.01, 0.25]]\n",
    ",\n",
    "    'outputs': ['Y']\n",
    "}\n"
   ]
  },
  {
   "cell_type": "markdown",
   "metadata": {},
   "source": [
    "### Génération du plan d'expérience\n",
    "\n",
    "Générer le plan d'expérience à l'aide de la fonction `saltelli.sample`. On ne calculera que les indices d'ordre 1 et totaux.\n"
   ]
  },
  {
   "cell_type": "code",
   "execution_count": 12,
   "metadata": {},
   "outputs": [
    {
     "ename": "AttributeError",
     "evalue": "module 'SALib.analyze.sobol' has no attribute 'sample'",
     "output_type": "error",
     "traceback": [
      "\u001b[0;31m---------------------------------------------------------------------------\u001b[0m",
      "\u001b[0;31mAttributeError\u001b[0m                            Traceback (most recent call last)",
      "Cell \u001b[0;32mIn[12], line 1\u001b[0m\n\u001b[0;32m----> 1\u001b[0m param_values \u001b[38;5;241m=\u001b[39m sobol\u001b[38;5;241m.\u001b[39msample(problem, \u001b[38;5;241m1024\u001b[39m)\n",
      "\u001b[0;31mAttributeError\u001b[0m: module 'SALib.analyze.sobol' has no attribute 'sample'"
     ]
    }
   ],
   "source": [
    "param_values = saltelli.sample(problem, 1024)"
   ]
  },
  {
   "cell_type": "markdown",
   "metadata": {},
   "source": [
    "### Lancer le modèle \n",
    "Exécuter le modèle direct sur les jeux de paramètres générés à l'étape précédente."
   ]
  },
  {
   "cell_type": "code",
   "execution_count": 6,
   "metadata": {
    "tags": []
   },
   "outputs": [],
   "source": [
    "\n"
   ]
  },
  {
   "cell_type": "markdown",
   "metadata": {},
   "source": [
    "### Représentation graphique \n",
    "\n",
    "Représenter graphiquement 1000 sorties du modèle."
   ]
  },
  {
   "cell_type": "code",
   "execution_count": null,
   "metadata": {},
   "outputs": [],
   "source": []
  },
  {
   "cell_type": "markdown",
   "metadata": {},
   "source": [
    "### Indices de sensibilité en chaque cellule\n",
    "\n",
    "Calculer et représenter graphiquement les indices du premier ordre et totaux en chaque cellule. On prendra soin de centrer la sortie en chaque cellule."
   ]
  },
  {
   "cell_type": "code",
   "execution_count": 80,
   "metadata": {},
   "outputs": [],
   "source": []
  },
  {
   "cell_type": "markdown",
   "metadata": {},
   "source": [
    "### Réduction de la dimension\n",
    "\n",
    "La sortie de notre modèle étant multivariée, il convient d'en réduire la dimension avant d'effectuer le calcul des indices de sensibilité.\n",
    "\n",
    "Effectuer une ACP sur la sortie du modèle (centrée) en utilisant le package [decomposition de sklearn](https://scikit-learn.org/stable/modules/generated/sklearn.decomposition.PCA.html#sklearn.decomposition.PCA) et identifier les composantes qui permettent de reproduire 99% de la variance. Pour justifier le choix du nombre de composantes, représenter la proportion de variance cumulée expliquée par les 10 premières composantes."
   ]
  },
  {
   "cell_type": "code",
   "execution_count": null,
   "metadata": {},
   "outputs": [],
   "source": []
  },
  {
   "cell_type": "markdown",
   "metadata": {},
   "source": [
    "### Représentation des composantes principales retenues\n",
    "Représenter les composantes retenues ainsi que l'approximation qui en résulte sur quelques uns des profils générés."
   ]
  },
  {
   "cell_type": "code",
   "execution_count": null,
   "metadata": {},
   "outputs": [],
   "source": []
  },
  {
   "cell_type": "markdown",
   "metadata": {},
   "source": [
    "### Indices univariés\n",
    "\n",
    "Calculer les indices de Sobol' du premier ordre et totaux pour chaque composante retenue. Les représenter graphiquement."
   ]
  },
  {
   "cell_type": "code",
   "execution_count": null,
   "metadata": {},
   "outputs": [],
   "source": []
  },
  {
   "cell_type": "markdown",
   "metadata": {},
   "source": [
    "### Indices généralisés\n",
    "\n",
    "Calculer les indices généralisés à partir des composantes sélectionnées. Les représenter graphiquement."
   ]
  },
  {
   "cell_type": "code",
   "execution_count": null,
   "metadata": {},
   "outputs": [],
   "source": []
  }
 ],
 "metadata": {
  "kernelspec": {
   "display_name": "Python 3",
   "language": "python",
   "name": "python3"
  },
  "language_info": {
   "codemirror_mode": {
    "name": "ipython",
    "version": 3
   },
   "file_extension": ".py",
   "mimetype": "text/x-python",
   "name": "python",
   "nbconvert_exporter": "python",
   "pygments_lexer": "ipython3",
   "version": "3.12.4"
  },
  "orig_nbformat": 2
 },
 "nbformat": 4,
 "nbformat_minor": 2
}
