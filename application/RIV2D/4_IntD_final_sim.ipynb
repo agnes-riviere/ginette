{
 "cells": [
  {
   "cell_type": "code",
   "execution_count": 66,
   "id": "df479296",
   "metadata": {},
   "outputs": [],
   "source": [
    "%reset -f \n",
    "Station=\"IntD\"\n",
    "# This script is used to generate a grid search for the IntD station\n",
    "# name file Station+grid_search.py\n",
    "name_file = Station + \"_grid_search.py\"\n",
    "with open(name_file, \"w\") as f:\n",
    "    pass"
   ]
  },
  {
   "cell_type": "code",
   "execution_count": 67,
   "id": "ea4915ca",
   "metadata": {},
   "outputs": [
    {
     "data": {
      "text/plain": [
       "<module 'src.src_python.Grid_search' from '/home/ariviere/Programmes/ginette/src/src_python/Grid_search.py'>"
      ]
     },
     "execution_count": 67,
     "metadata": {},
     "output_type": "execute_result"
    }
   ],
   "source": [
    "# -*- coding: utf-8 -*-\n",
    "\n",
    "\"\"\"\n",
    "Created on Wed Oct 18 14:57:23 2023\n",
    "import functions mesh\n",
    "\"\"\"\n",
    "dir_ginette = \"/home/ariviere/Programmes/ginette\"\n",
    "# RIV2D + Station\n",
    "\n",
    "import os\n",
    "main_dir = os.path.join(dir_ginette, \"application/RIV2D\", Station)\n",
    "import numpy as np\n",
    "import matplotlib.pyplot as plt\n",
    "import pandas as pd\n",
    "import sys\n",
    "import math\n",
    "import matplotlib.pyplot as plt\n",
    "# Ajouter le chemin du dossier src au PYTHONPATH\n",
    "import importlib\n",
    "sys.path.append(dir_ginette)  # Ajouter le dossier parent de src\n",
    "\n",
    "# use __init__.py to import all functions/ in src/src_gmsh and src/src_pythont\n",
    "# insure \n",
    "from src.src_gmsh import mesh_generator\n",
    "from src.src_python import Init_folders\n",
    "from src.src_python import Direct_model\n",
    "from src.src_python import Read_obs\n",
    "from src.src_python import Plot\n",
    "from src.src_python import stat_critere\n",
    "from src.src_python import Grid_search\n",
    "\n",
    "# Import all functions/classes from the relevant modules\n",
    "from src.src_gmsh.mesh_generator import *\n",
    "from src.src_python.Init_folders import *\n",
    "from src.src_python.Direct_model import *\n",
    "from src.src_python.Read_obs import *\n",
    "from src.src_python.Plot import *\n",
    "from src.src_python.stat_critere import *\n",
    "from src.src_python.Grid_search import *\n",
    "import importlib\n",
    "\n",
    "\n",
    "importlib.reload(Init_folders)\n",
    "importlib.reload(Direct_model)\n",
    "importlib.reload(Grid_search)\n",
    "\n",
    "# give me all names of the functions in Init_folders\n",
    "#print(Init_folders.__dict__)\n",
    "#print([name for name in dir(Init_folders) if callable(getattr(Init_folders, name)) and not name.startswith(\"__\")])\n",
    "\n"
   ]
  },
  {
   "cell_type": "markdown",
   "id": "8b02cce4",
   "metadata": {},
   "source": [
    "# PARAMETERS RANGE\n",
    "You should already have your table ready\n",
    "Remove the ginette file in the Station repertory to be sure to recompile"
   ]
  },
  {
   "cell_type": "code",
   "execution_count": 68,
   "id": "ef3d661b",
   "metadata": {},
   "outputs": [
    {
     "name": "stdout",
     "output_type": "stream",
     "text": [
      "ginette exists\n"
     ]
    }
   ],
   "source": [
    "\n",
    "\n",
    "# Change the working directory to the main simulation directory\n",
    "os.chdir(main_dir)\n",
    "\n",
    "# Compile the Ginette source code (if needed for the simulation)\n",
    "compile_ginette_src(dir_ginette)\n"
   ]
  },
  {
   "cell_type": "code",
   "execution_count": 69,
   "id": "26455fa3",
   "metadata": {},
   "outputs": [],
   "source": [
    "# remove IntD_grid_search.py\n",
    "name_file = Station + \"_grid_search.py\"\n",
    "os.remove(name_file)"
   ]
  },
  {
   "cell_type": "code",
   "execution_count": 70,
   "id": "53c4f61d",
   "metadata": {
    "notebookRunGroups": {
     "groupValue": "1"
    }
   },
   "outputs": [
    {
     "name": "stdout",
     "output_type": "stream",
     "text": [
      "Writing IntD_grid_search.py\n"
     ]
    }
   ],
   "source": [
    "%%writefile  IntD_grid_search.py\n",
    "\n",
    "import os\n",
    "import sys\n",
    "# read the input_inversion.txt file#%%writefile IntD_grid_search.py\n",
    "with open(\"input_inversion.txt\", \"r\") as f:\n",
    "    lines = f.readlines()\n",
    "\n",
    "# Helper to parse a line of the form \"key: value\"\n",
    "def parse_line(line):\n",
    "    key, value = line.strip().split(\":\", 1)\n",
    "    return key.strip(), value.strip()\n",
    "\n",
    "parsed = dict(parse_line(line) for line in lines)\n",
    "\n",
    "date_simul_bg = parsed[\"date_simul_bg\"]\n",
    "Station = parsed[\"Station\"]\n",
    "# Read param_struct from the parsed input and convert to list\n",
    "param_struct = [x.strip(\" '\") for x in parsed[\"param_struct\"].split(\",\")]\n",
    "sensors = [x.strip(\" '\") for x in parsed[\"sensors\"].split(\",\")]\n",
    "sigma = float(parsed[\"sigma\"])\n",
    "zones_to_invert = [int(z) for z in parsed[\"zones_to_invert\"].strip(\"[]\").split(\",\")]\n",
    "parameters_to_invert = [x.strip(\" '\") for x in parsed[\"parameters_to_invert\"].split(\",\")]\n",
    "simul_todo_range = parsed[\"simul_todo\"].split(\",\")\n",
    "simul_todo = range(int(simul_todo_range[0]), int(simul_todo_range[1]))\n",
    "main_dir = parsed[\"path_simul\"]\n",
    "dir_ginette = parsed[\"dir_ginette\"]\n",
    "\n",
    "os.chdir(main_dir)\n",
    "\n",
    "\n",
    "\n",
    "\n",
    "\n",
    "import numpy as np\n",
    "import matplotlib.pyplot as plt\n",
    "import pandas as pd\n",
    "import sys\n",
    "import math\n",
    "import matplotlib.pyplot as plt\n",
    "# Ajouter le chemin du dossier src au PYTHONPATH\n",
    "import importlib\n",
    "sys.path.append(dir_ginette)  # Ajouter le dossier parent de src\n",
    "\n",
    "# use __init__.py to import all functions/ in src/src_gmsh and src/src_pythont\n",
    "# insure \n",
    "from src.src_gmsh import mesh_generator\n",
    "from src.src_python import Init_folders\n",
    "from src.src_python import Direct_model\n",
    "from src.src_python import Read_obs\n",
    "from src.src_python import Plot\n",
    "from src.src_python import stat_critere\n",
    "from src.src_python import Grid_search\n",
    "\n",
    "# Import all functions/classes from the relevant modules\n",
    "from src.src_gmsh.mesh_generator import *\n",
    "from src.src_python.Init_folders import *\n",
    "from src.src_python.Direct_model import *\n",
    "from src.src_python.Read_obs import *\n",
    "from src.src_python.Plot import *\n",
    "from src.src_python.stat_critere import *\n",
    "from src.src_python.Grid_search import *\n",
    "import importlib\n",
    "\n",
    "\n",
    "importlib.reload(Init_folders)\n",
    "importlib.reload(Direct_model)\n",
    "importlib.reload(Grid_search)\n",
    "from src.src_python.Grid_search import *\n",
    "from src.src_python import Grid_search\n",
    "importlib.reload(Grid_search)\n",
    "\n",
    "# Convert the date_simul_bg to datetime\n",
    "date_simul_bg = pd.to_datetime(date_simul_bg, format='%Y-%m-%d %H:%M:%S')\n",
    "print(f\"date_simul_bg: {date_simul_bg}\")\n",
    "print(f\"Station: {Station}\")\n",
    "print(f\"param_struct: {param_struct}\")\n",
    "print(f\"sensors: {sensors}\")\n",
    "print(f\"sigma: {sigma}\")\n",
    "print(f\"zones_to_invert: {zones_to_invert}\")\n",
    "print(f\"parameters_to_invert: {parameters_to_invert}\")\n",
    "print(f\"simul_todo: {simul_todo}\")\n",
    "print(f\"path_simul: {main_dir}\")\n",
    "print(f\"dir_ginette: {dir_ginette}\")\n",
    "\n",
    "\n",
    "# read the param_table.txt file\n",
    "param_table = pd.read_csv(\"param_table.txt\", sep=\",\", header=0)\n",
    "param_table['index_sim'] = param_table.index + 1\n",
    "header_save_param = param_table.columns\n",
    "\n",
    "# Table of simulated parameters\n",
    "# param_table = pd.DataFrame(columns=header_save_param)\n",
    "param_table_simul = pd.DataFrame(columns=header_save_param)\n",
    "\n",
    "# make a loop to run each index_sim in simul_todo\n",
    "\n",
    "for id_sim in simul_todo:\n",
    "    print(f\"Simulation {id_sim}\")\n",
    "    param_table_id_sim = run_one_simulation_2D(\n",
    "        Station, main_dir, date_simul_bg, sensors,\n",
    "        param_table, id_sim, param_struct, zones_to_invert,\n",
    "        parameters_to_invert, param_table_simul, dir_ginette)\n",
    "\n",
    "    path_output_tempsim = os.path.join(main_dir, f\"OUTPUT_{Station}\")\n",
    "    new_file_name = f\"{id_sim}_S_flux_ZH_aq.dat\"\n",
    "    # save in the folder OUTPUT path_output_tempsim\n",
    "    new_file_path = os.path.join(path_output_tempsim, new_file_name)\n",
    "    os.rename(\"S_flux_ZH_aq.dat\", new_file_path)\n",
    "    new_file_name= os.path.join(f\"{id_sim}_S_pression_charge_temperature.dat\")\n",
    "    # rename S_pression_charge_temperature.dat to new_file\n",
    "    new_file_path = os.path.join(path_output_tempsim, new_file_name)\n",
    "    # rename S_flux_ZH_aq.dat to new_file_path\n",
    "    os.rename(\"S_pression_charge_temperature.dat\",new_file_path)\n",
    "    \n",
    "\n",
    "param_table_simul = pd.concat([param_table_simul, param_table_id_sim], ignore_index=True)\n",
    "\n",
    "\n",
    "param_table_simul.to_csv(\"PARAMETER_\" + Station + \"/\"+ \"S_parmeters_simul.dat\", index=False)"
   ]
  }
 ],
 "metadata": {
  "kernelspec": {
   "display_name": "Python 3",
   "language": "python",
   "name": "python3"
  },
  "language_info": {
   "codemirror_mode": {
    "name": "ipython",
    "version": 3
   },
   "file_extension": ".py",
   "mimetype": "text/x-python",
   "name": "python",
   "nbconvert_exporter": "python",
   "pygments_lexer": "ipython3",
   "version": "3.10.12"
  }
 },
 "nbformat": 4,
 "nbformat_minor": 5
}
