{
 "cells": [
  {
   "cell_type": "markdown",
   "metadata": {},
   "source": [
    "# Modules to be Installed\n",
    "The following modules are required for this project:\n",
    "\n",
    "- `os`\n",
    "- `sys`\n",
    "- `gmsh`\n",
    "- `numpy` (`np`)\n",
    "- `pandas` (`pd`)\n",
    "- `pyvista` (`pv`)\n",
    "- `matplotlib.pyplot` (`plt`)\n",
    "- `math`\n",
    "- `meshio`\n",
    "- `gmshparser`\n",
    "- `importlib`\n",
    "-  `math`\n",
    "- `shapely.geometry`\n",
    "```markdown\n",
    "To install these modules, use the following pip command:\n",
    "\n",
    "```bash\n",
    "pip install os sys gmsh numpy pandas pyvista matplotlib math meshio gmshparser importlib\n",
    "\n",
    "```"
   ]
  },
  {
   "cell_type": "code",
   "execution_count": 106,
   "metadata": {},
   "outputs": [
    {
     "name": "stdout",
     "output_type": "stream",
     "text": []
    }
   ],
   "source": [
    "# appel fonction mesh\n",
    "# -*- coding: utf-8 -*-\n",
    "\"\"\"\n",
    "Created on Wed Oct 18 14:57:23 2023\n",
    "import functions mesh\n",
    "\"\"\"\n",
    "import numpy as np\n",
    "import matplotlib.pyplot as plt\n",
    "import pandas as pd\n",
    "import os\n",
    "import sys\n",
    "# Ajouter le chemin du dossier src au PYTHONPATH\n",
    "import importlib\n",
    "sys.path.append('/home/ariviere/Programmes/ginette')  # Ajouter le dossier parent de src\n",
    "from src.src_gmsh import mesh_generator\n",
    "from src.src_python import Direct_model\n",
    "from src.src_python import Init_folders\n",
    "importlib.reload(mesh_generator)\n",
    "from src.src_gmsh.mesh_generator import plot_gmsh_mesh,process_distance_altitude,generate_mesh_8_region,remove_elements_above_curve_all_entities,voisin_mesh,coord_to_row_column,compute_am_bm_from_row_col\n",
    "from src.src_python.Init_folders import *\n",
    "from src.src_python.Direct_model import *\n",
    "#print functions of Init_folders\n",
    "\n",
    "\n",
    "importlib.reload(Init_folders)\n",
    "# give me all names of the functions in Init_folders\n",
    "#print(Init_folders.__dict__)\n",
    "#print([name for name in dir(Init_folders) if callable(getattr(Init_folders, name)) and not name.startswith(\"__\")])\n",
    "\n",
    "compile_ginette()"
   ]
  },
  {
   "cell_type": "code",
   "execution_count": 10,
   "metadata": {},
   "outputs": [],
   "source": [
    "# Configuration du répertoire de travail\n",
    "# Utiliser os.getcwd() pour obtenir le répertoire de travail actuel\n",
    "script_dir = os.getcwd()  # Répertoire du notebook\n",
    "mesh_dir = os.path.join(script_dir, \"meshdata\")  # Chemin absolu vers \"meshdata\"\n",
    "sim_dir= script_dir\n",
    "file_path = \"/home/ariviere/Documents/Bassin_Orgeval/Donnee_Orgeval_Mines/raw_data/DESC_data/DATA_STATION/\"  # Chemin vers le fichier CSV\n",
    "\n",
    "# Ajouter le chemin du dossier src au PYTHONPATH\n",
    "sys.path.insert(0, \"/home/ariviere/Programmes/ginette/src\")\n",
    "# Paramètres de du maillage\n",
    "## name de la station\n",
    "Station = \"IntD\"\n",
    "# Paramètres sens de la station par rapport à la direction de la rivière\n",
    "#       |   ↑    |\n",
    "#  RG   |   ↑    |  RD\n",
    "#       |        |\n",
    "#  Rive_D=0 station à l'envers x_piezo_RD=0m dans l'exemple du schema\n",
    "Rive_D=0\n",
    "plot=True\n",
    "meshplot=True\n",
    "altitude_min = 103\n",
    "dz_pt100=0.15\n",
    "dz_pt100first=0.1\n",
    "\n"
   ]
  },
  {
   "cell_type": "code",
   "execution_count": 11,
   "metadata": {},
   "outputs": [
    {
     "name": "stdout",
     "output_type": "stream",
     "text": []
    },
    {
     "name": "stdout",
     "output_type": "stream",
     "text": []
    }
   ],
   "source": [
    "# reading the data georef\n",
    "distance_altitude_table,pt100_coord= process_distance_altitude(file_path, Station, mesh_dir, altitude_min, Rive_D,dz_pt100=dz_pt100,dz_pt100first=dz_pt100first)    \n",
    "\n",
    "print(\"coordonnées des capteurs de températures\")\n",
    "print(pt100_coord)\n",
    "# definition des zones zones\n",
    "#zone 1 \n",
    "#zone 2\n",
    "permeabilite_2 = 2.5662199999999999E-08 \n",
    "rect_2 = np.array([[0, 103.], [16, 103.],[16., 103.83],[0, 103.83]])\n",
    "# zone 3\n",
    "permeabilite_3 = 9.9999999999999995E-07\n",
    "rect_3= np.array([[0, 103.83], [16, 103.83],[16, 105.02],[0, 105.02]])\n",
    "# zone 4\n",
    "permeabilite_4=0.0001200000000000000\n",
    "poly_4=np.array([[10.7,104.7],[9.67076,104.40417],[9.48341,104.37706],[9.3,104.35],\n",
    "                 [8.82518,104.25082],[8.7,104.22],[8.35,104.22],[7.3,104.22],\n",
    "                 [6.8,104.22],[6.4,104.28],[6.35819,104.28925],\n",
    "                 [5.91353,104.42771],[5.8,104.5],[5.65,104.6],\n",
    "                 [5.94139,103.83],\n",
    "               [6.8832,103.83],[7.40838,103.83],[8.06661,103.83], \n",
    "                 [9.3,103.83],[9.48341,103.83]\n",
    "                ])\n",
    "# zone 5        \n",
    "permeabilite_5=4.9899999999999997E-08 \n",
    "poly_5=np.array([[10.7,104.7],[9.67076,104.40417],[9.48341,104.37706],[9.3,104.35],\n",
    "                 [8.82518,104.25082],[8.7,104.22],[8.35,104.22],[7.3,104.22],\n",
    "                 [6.8,104.22],[6.4,104.28],[6.35819,104.28925],\n",
    "                 [5.91353,104.42771],[5.8,104.5],[5.65,104.6],[5.5,104.8],\n",
    "                 [5.8,104.7],[6.1,104.7],[6.4,104.6],[6.8,104.6],\n",
    "                 [7.3,104.5],[7.7,104.5],[8.3,104.5],[8.7,104.6],[9.3,104.5],[10.92239,104.8]]) \n",
    "# \n",
    "# \n",
    "#    \n",
    "# plot des données\n",
    "if plot:\n",
    "    import matplotlib.pyplot as plt\n",
    "\n",
    "    # Configure the plot\n",
    "    plt.figure(figsize=(12, 8))\n",
    "    plt.plot(\n",
    "        distance_altitude_table[\"Distance (m)\"],\n",
    "        distance_altitude_table[\"Altitude (Z)\"],\n",
    "        marker='o',\n",
    "        # add name distance_altitude_table[\"Instrument\"] if not NA\n",
    "        linestyle='-',\n",
    "        color='blue',\n",
    "        label='Altitude Profile'\n",
    "    )\n",
    "\n",
    "    # Ajouter les noms des instruments au-dessus des points si ce n'est pas \"NA\"\n",
    "    for i, instrument in enumerate(distance_altitude_table[\"Instrument\"]):\n",
    "        if instrument != \"NA\" and not pd.isna(instrument):\n",
    "            plt.text(\n",
    "                distance_altitude_table[\"Distance (m)\"][i],\n",
    "                distance_altitude_table[\"Altitude (Z)\"][i] + 0.1,  # Décalage vertical pour éviter de chevaucher le point\n",
    "                instrument,\n",
    "                fontsize=10,\n",
    "                color='red',\n",
    "                ha='center'\n",
    "            )\n",
    "    # Tracer les zones rectangulaires xmin ymin and xmax ymax\n",
    "\n",
    "    plt.fill(rect_2[:, 0], rect_2[:, 1], color='green', alpha=0.3, label='Zone 2')\n",
    "    plt.fill(rect_3[:, 0], rect_3[:, 1], color='blue', alpha=0.3, label='Zone 3')\n",
    "    plt.fill(poly_4[:, 0], poly_4[:, 1], color='orange', alpha=0.3, label='Zone 4')\n",
    "    plt.fill(poly_5[:, 0], poly_5[:, 1], color='purple', alpha=0.3, label='Zone 5')\n",
    "\n",
    "# Tracer les capteurs de température PT100\n",
    "# Tracer les capteurs de température PT100\n",
    "    if not pt100_coord.empty:\n",
    "        pt100_label_added = False  # Variable pour suivre si le label \"PT100\" a été ajouté\n",
    "        for i in range(len(pt100_coord)):\n",
    "            plt.scatter(\n",
    "                pt100_coord[\"Distance (m)\"][i],\n",
    "                pt100_coord[\"Altitude (Z)\"][i],\n",
    "                color='red',\n",
    "                label=\"PT100\" if not pt100_label_added else None  # Ajouter le label uniquement une fois\n",
    "            )\n",
    "            pt100_label_added = True  # Marquer que le label a été ajouté\n",
    "    # Add titles and labels    # Initialize the neighbors as -99 (no neighbor)\n",
    "    # The neighbors are stored in the ivois DataFrame\n",
    "    plt.title(\"Distance vs Altitude\", fontsize=16, fontweight='bold')\n",
    "    plt.xlabel(\"Distance (m)\", fontsize=14)\n",
    "    plt.ylabel(\"Altitude (Z)\", fontsize=14)\n",
    "\n",
    "    # Add grid and legend\n",
    "    plt.grid(True, linestyle='--', alpha=0.7)\n",
    " # Ajouter la légende en dehors de la figure, à droite\n",
    "    plt.legend(fontsize=12, loc='upper left', bbox_to_anchor=(1, 0.5))\n",
    "\n",
    "    # Show the plot\n",
    "    plt.tight_layout()\n",
    "    plt.show()\n",
    "#     \n",
    "\n",
    "\n",
    "\n"
   ]
  },
  {
   "cell_type": "code",
   "execution_count": 15,
   "metadata": {},
   "outputs": [
    {
     "name": "stdout",
     "output_type": "stream",
     "text": []
    }
   ],
   "source": [
    "import math\n",
    "## altitude min du maillage\n",
    "x_hoboRG=6.8\n",
    "x_hoboRD=8.7\n",
    "z_hoboRG=104.5\n",
    "z_hoboRD=104.5\n",
    "x_RG=5.25\n",
    "x_RD=10.25\n",
    "z_riv=104.575\n",
    "v_bot=103.925\n",
    "dx_precis=0.10\n",
    "dx_grossier=0.25\n",
    "dz_grossier=0.25\n",
    "dz_precis=0.05\n",
    "dx_hobo=0.05\n",
    " # Calcul des subdivisions en x pour les regions centre 2 et 5\n",
    "length_x_centre = x_RD-x_RG\n",
    "num_div_x_centre = max(2, math.ceil(length_x_centre / dx_precis))\n",
    "max_x=distance_altitude_table['Distance (m)'].max()\n",
    "min_x=distance_altitude_table['Distance (m)'].min()\n",
    "max_z=distance_altitude_table['Altitude (Z)'].max()\n",
    "# Calcul des subdivisions en x pour les regions de gauche 1, 4 et 7\n",
    "length_x_gauche = x_RG - min_x\n",
    "num_div_x_gauche = max(2, math.ceil(length_x_gauche / dx_grossier))\n",
    "\n",
    "        # Calcul des subdivisions en x pour les regions centre 2 et 5\n",
    "length_x_centre = x_RD- x_RG\n",
    "num_div_x_centre = max(2, math.ceil(length_x_centre / dx_precis))\n",
    "# Calcul des subdivisions en x pour les regions droite 3, 6 et 8\n",
    "length_x_droite = max_x - x_RD\n",
    "num_div_x_droite = max(2, math.ceil(length_x_droite / dx_grossier))\n",
    "\n",
    "        # Calcul des subdivisions en z pour les regions haute 7 et 8\n",
    "num_div_z_haut = max(2, math.ceil((max_z - z_riv) / dz_grossier))\n",
    "        # Ensure the number of subdivisions is an integer by adjusting the step size\n",
    "if (max_z - z_riv) % dz_grossier != 0.1:\n",
    "    num_div_z_haut = max(2, round((max_z - z_riv) / dz_grossier))\n",
    "        \n",
    "        # Calcul des subdivisions en z pour les regions centre 4, 5 et 6\n",
    "num_div_z_centre = max(2, math.ceil((z_riv - v_bot) / dz_precis))\n",
    "\n",
    "        # Calcul des subdivisions en z pour les regions bas 1,2 et 3\n",
    "num_div_z_bas = max(2, math.ceil((v_bot - altitude_min)/dz_grossier))\n",
    "\n",
    "print(f\"Subdivisions calculées :\\n\"\n",
    "            f\"  - Gauche : {num_div_x_gauche} subdivisions\\n\"\n",
    "            f\" - dx gauche : {length_x_gauche / num_div_x_gauche:.2f} m\\n\"\n",
    "            f\"  - Centre : {num_div_x_centre} subdivisions\\n\"\n",
    "            f\" - dx centre : {length_x_centre / num_div_x_centre:.2f} m\\n\"\n",
    "            f\"  - Droite : {num_div_x_droite} subdivisions\\n\"\n",
    "            f\" - dx droite : {length_x_droite / num_div_x_droite:.2f} m\\n\"\n",
    "            f\"  - Haut : {num_div_z_haut} subdivisions\\n\"\n",
    "            f\" - dz haut : {(max_z - z_riv) / num_div_z_haut:.2f} m\\n\"\n",
    "            f\"  - Centre : {num_div_z_centre} subdivisions\\n\"\n",
    "            f\" - dz centre : {(z_riv - v_bot) / num_div_z_centre:.2f} m\\n\"\n",
    "            f\"  - Bas : {num_div_z_bas} subdivisions\\n\"\n",
    "            f\" - dz bas : {(v_bot - altitude_min) / num_div_z_bas:.2f} m\\n\")"
   ]
  },
  {
   "cell_type": "code",
   "execution_count": 16,
   "metadata": {},
   "outputs": [
    {
     "name": "stdout",
     "output_type": "stream",
     "text": []
    },
    {
     "name": "stdout",
     "output_type": "stream",
     "text": []
    }
   ],
   "source": [
    "if meshplot:\n",
    "    # Appel de la fonction\n",
    "    output_mesh_path = os.path.join(mesh_dir, \"rectangular_mesh.msh\")\n",
    "    generate_mesh_8_region(distance_altitude_table, output_mesh_path,v_bot=v_bot,x_RG =x_RG, x_RD = x_RD,z_riv=z_riv, \n",
    "                           dx_grossier=dx_grossier, dx_precis = dx_precis,x_hobo_1 =x_hoboRG, z_hobo_1=z_hoboRG,x_hobo_2 = x_hoboRD,z_hobo_2=z_hoboRD, dx_hobo=dx_hobo, \n",
    "                           dz_grossier=dz_grossier, dz_precis=dz_precis,dz_hobo1=dz_pt100first,dz_hobo=dz_pt100,mesh_dimension=2)\n",
    "\n",
    "    output_mesh_path = os.path.join(mesh_dir, \"rectangular_mesh.msh\")\n",
    "    remove_elements_above_curve_all_entities(distance_altitude_table, output_mesh_path, ajout='_remove_all_entities', retirer='')\n",
    "    plot_gmsh_mesh(output_mesh_path.replace(\".msh\", \"_remove_all_entities.msh\")) # Modification du nom car on applique 2 fois la fct remove elements \n",
    "\n"
   ]
  },
  {
   "cell_type": "markdown",
   "metadata": {},
   "source": [
    "# creation fichier coordonnées"
   ]
  },
  {
   "cell_type": "code",
   "execution_count": 17,
   "metadata": {},
   "outputs": [
    {
     "name": "stdout",
     "output_type": "stream",
     "text": []
    }
   ],
   "source": [
    "\n",
    "from src.src_gmsh import mesh_generator\n",
    "importlib.reload(mesh_generator)\n",
    "\n",
    "from src.src_gmsh.mesh_generator import readGmsh\n",
    "fName = os.path.join(mesh_dir, \"rectangular_mesh_remove_all_entities.msh\")\n",
    "# rename to pt100_coord with x and z\n",
    "pt100_coord.rename(columns={\"Distance (m)\": \"x\", \"Altitude (Z)\": \"z\"}, inplace=True)\n",
    "\n",
    "centres,nb_mesh = readGmsh(fName, precision=3)\n",
    "# write the coordinates in a file witout the header\n",
    "centres.to_csv(os.path.join(sim_dir, \"E_coordonnee.dat\"), sep=' ', header=False, index=False)\n",
    "\n",
    "\n",
    "# write index with the first =1 in the first column of the centres dataframe\n",
    "centres['index'] = np.arange(1, len(centres) + 1)\n",
    "\n",
    "print(centres.head())\n"
   ]
  },
  {
   "cell_type": "markdown",
   "metadata": {},
   "source": [
    "### Figure des centres de mailles"
   ]
  },
  {
   "cell_type": "code",
   "execution_count": 27,
   "metadata": {},
   "outputs": [
    {
     "name": "stdout",
     "output_type": "stream",
     "text": []
    }
   ],
   "source": [
    "x = centres['x']\n",
    "z = centres['z']\n",
    "fig, ax = plt.subplots(figsize = (16,9))\n",
    "\n",
    "ax.scatter(x,z,marker=\"+\") # Trace le centre de chaque mailles\n",
    "plt.show()"
   ]
  },
  {
   "cell_type": "markdown",
   "metadata": {},
   "source": [
    "### Index = nmaille ginette to save"
   ]
  },
  {
   "cell_type": "code",
   "execution_count": 28,
   "metadata": {},
   "outputs": [
    {
     "name": "stdout",
     "output_type": "stream",
     "text": []
    }
   ],
   "source": [
    "\n",
    "# find index of the centre near the pt100_coord and add the number of centre in pt100_coord\n",
    "for i in range(len(pt100_coord)):\n",
    "    # find the index of the centre nearest to pt100_coord\n",
    "    index = ((centres['x'] - pt100_coord[\"x\"][i])**2 + (centres['z'] - pt100_coord[\"z\"][i])**2).idxmin()\n",
    "    # add the index to the pt100_coord\n",
    "    pt100_coord.loc[i, 'index'] = centres.loc[index, 'index']\n",
    "    # add the distance to the pt100_coord\n",
    "    pt100_coord.loc[i, 'distance'] = np.sqrt((centres['x'][index] - pt100_coord[\"x\"][i])**2 + (centres['z'][index] - pt100_coord[\"z\"][i])**2)\n",
    "    pt100_coord.loc[i, 'xmaille'] = centres.loc[index, 'x']\n",
    "    pt100_coord.loc[i, 'zmaille'] = centres.loc[index, 'z']\n",
    "\n",
    "\n",
    "pt100_coord['n_maille'] = pt100_coord['index'].astype(int)\n",
    "\n",
    "\n",
    "print(pt100_coord.head(8))"
   ]
  },
  {
   "cell_type": "code",
   "execution_count": 37,
   "metadata": {},
   "outputs": [
    {
     "name": "stdout",
     "output_type": "stream",
     "text": []
    }
   ],
   "source": [
    "\n",
    "# Filter to zoom in on the desired region\n",
    "centres_zoom = centres[\n",
    "    (centres['x'] > 6.6) & (centres['x'] < 7) &\n",
    "    (centres['z'] > 104.) & (centres['z'] < 104.6)\n",
    "]\n",
    "\n",
    "# Plot the points\n",
    "plt.figure(figsize=(12, 8))\n",
    "plt.scatter(centres_zoom['x'], centres_zoom['z'], c=centres_zoom['index'], cmap='viridis', s=30)\n",
    "\n",
    "# Add text labels for each point\n",
    "for _, row in centres_zoom.iterrows():\n",
    "    plt.text(row['x'], row['z'], str(row['z']), fontsize=20, color='black', ha='center', va='center')\n",
    "\n",
    "# Add axis labels and a colorbar for clarity\n",
    "plt.xlabel('x (meters)')\n",
    "plt.ylabel('z (meters)')\n",
    "plt.title('Zoom on Mesh Centres with Index Numbers')\n",
    "plt.colorbar(label='Mesh Number')\n",
    "plt.show()"
   ]
  },
  {
   "cell_type": "markdown",
   "metadata": {},
   "source": [
    "# Tableau de voisinage"
   ]
  },
  {
   "cell_type": "code",
   "execution_count": 38,
   "metadata": {},
   "outputs": [
    {
     "name": "stdout",
     "output_type": "stream",
     "text": []
    }
   ],
   "source": [
    "importlib.reload(mesh_generator)\n",
    "ivois = voisin_mesh(script_dir)"
   ]
  },
  {
   "cell_type": "markdown",
   "metadata": {},
   "source": [
    "## test voisinage"
   ]
  },
  {
   "cell_type": "code",
   "execution_count": 40,
   "metadata": {},
   "outputs": [
    {
     "name": "stdout",
     "output_type": "stream",
     "text": []
    }
   ],
   "source": [
    "\n",
    "\n",
    "# Filter to zoom in on the desired region\n",
    "centres_zoom = centres[\n",
    "    (centres['x'] > 6.6) & (centres['x'] < 7) &\n",
    "    (centres['z'] > 104.) & (centres['z'] < 104.6)\n",
    "]\n",
    "\n",
    "# Plot the points\n",
    "plt.figure(figsize=(12, 8))\n",
    "plt.scatter(centres_zoom['x'], centres_zoom['z'], c=centres_zoom['index'], cmap='viridis', s=30)\n",
    "\n",
    "# Add text labels for each point\n",
    "for _, row in centres_zoom.iterrows():\n",
    "    plt.text(row['x'], row['z'], str(row['index']), fontsize=20, color='black', ha='center', va='center')\n",
    "\n",
    "# Add axis labels and a colorbar for clarity\n",
    "plt.xlabel('x (meters)')\n",
    "plt.ylabel('z (meters)')\n",
    "plt.title('Zoom on Mesh Centres with Index Numbers')\n",
    "plt.colorbar(label='Mesh Number')\n",
    "plt.show()\n"
   ]
  },
  {
   "cell_type": "markdown",
   "metadata": {},
   "source": [
    "# creation dimension"
   ]
  },
  {
   "cell_type": "code",
   "execution_count": 41,
   "metadata": {},
   "outputs": [
    {
     "name": "stdout",
     "output_type": "stream",
     "text": []
    }
   ],
   "source": [
    "\n",
    "# Call the function coord_to_row_column\n",
    "nb_col,nb_row=coord_to_row_column(script_dir)"
   ]
  },
  {
   "cell_type": "code",
   "execution_count": 42,
   "metadata": {},
   "outputs": [
    {
     "name": "stdout",
     "output_type": "stream",
     "text": []
    },
    {
     "name": "stdout",
     "output_type": "stream",
     "text": []
    }
   ],
   "source": [
    "importlib.reload(mesh_generator)\n",
    "compute_am_bm_from_row_col(script_dir)"
   ]
  },
  {
   "cell_type": "markdown",
   "metadata": {},
   "source": [
    "# creation des E_zone.dat\n",
    "* E_zone.dat: numero zone de chaque maille 1 ligne = 1 interger\n",
    "    '''\n",
    "    Fonction qui permet de remplir le fichier E_zone.dat utile pour ginette. On a besoin pour cela du maillage (fichier E_coordonee.dat) et d'un dataframe comprenant\n",
    "    les polygones rangés selon leur zone respectivent. La fonction test si le centre de chaque maille se trouve ou non dans un polygone. Une fois la zone de la maille\n",
    "    trouvé c'est ajouté à une liste qui en fin de fonction sera écrit dans le fichier E_zone.dat\n",
    "\n",
    "    Entrée\n",
    "    path_E_coor (str) : Chemin (relatif ou absolu) amenant au fichier E_coordonee.dat\n",
    "    path_E_zone (str) : Chemin (relatif ou absolu) amenant au fichier E_zone.dat\n",
    "    polygons_by_zone (DataFrame) : Df comprenant les polygones qui définissent les différentes zones du maillage. Un exemple de création de polygons_by_zone est donné dans la suite du code\n",
    "    default_zone (int) : zone (par default = 1) que l'on va attribuer au point contenu dans aucun polygone (Evite de définir tout les polygone dans polygons_by_zone)\n",
    "    '''"
   ]
  },
  {
   "cell_type": "code",
   "execution_count": null,
   "metadata": {},
   "outputs": [],
   "source": []
  },
  {
   "cell_type": "markdown",
   "metadata": {},
   "source": [
    "# Récuppérer les numéros des centres des PT100 pour les indiquer dans E_parametres.dat"
   ]
  },
  {
   "cell_type": "code",
   "execution_count": 43,
   "metadata": {},
   "outputs": [
    {
     "name": "stdout",
     "output_type": "stream",
     "text": []
    }
   ],
   "source": [
    "print(nb_mesh)\n",
    "# E_zone.dat with the number 1 for each mesh \n",
    "# need to be adapted with the nnumber of zone\n",
    "# dataframe with integer 1 for each mesh\n",
    "zone = pd.DataFrame(np.ones((nb_mesh, 1), dtype=int), columns=['zone'])\n",
    "# print E_zone.dat \n",
    "zone.to_csv(os.path.join(mesh_dir, \"E_zone.dat\"), sep=' ', header=False, index=False)"
   ]
  },
  {
   "cell_type": "code",
   "execution_count": 44,
   "metadata": {},
   "outputs": [],
   "source": [
    "importlib.reload(Direct_model)\n",
    "setup_ginette_perm_2D(pt100_coord,nb_mesh,nb_col,nb_row)\n",
    "initial_conditions_perm_2D()"
   ]
  },
  {
   "cell_type": "markdown",
   "metadata": {},
   "source": [
    "# creation des conditions aux limites\n",
    "* Piezo rive gauche rive droite pour la charge :       \n",
    "      open (unit=222, file='E_BordRD.dat', iostat=iidRD)\n",
    "      open (unit=223, file='E_BordRG.dat', iostat=iidRG)\n",
    "      open (unit=2242, file='E_bottomZH.dat', iostat=iidZH)\n",
    "      open (unit=224, file='E_Id_river.dat', iostat=iidrv)\n",
    "      open (unit=2244, file='E_Id_river_max.dat', iostat=iidrvtest)\n",
    "      open (unit=225, file='E_TempSol.dat', iostat=iTsol)\n",
    "      open (unit=226, file='E_PluieR.dat', iostat=i226)\n",
    "      open (unit=227, file='E_chargeT_RD.dat', iostat=iCRD)\n",
    "      open (unit=228, file='E_chargeT_RG.dat')\n",
    "!     open(unit=229,file='E_tempT_RD.dat')\n",
    "!     open(unit=230,file='E_tempT_RG.dat')\n",
    "!     open(unit=231,file='E_tempT_Riv.dat')\n",
    "      open (unit=232, file='E_chargeT_Riv.dat')\n",
    "Riviere hauteur d'eau dans la rivière\n",
    "flux nul en bas flux nul en haut hormis la rivière"
   ]
  },
  {
   "cell_type": "code",
   "execution_count": null,
   "metadata": {},
   "outputs": [],
   "source": []
  },
  {
   "cell_type": "markdown",
   "metadata": {},
   "source": [
    "Faire tourner un régime permanant pour générer les conditions initiales"
   ]
  },
  {
   "cell_type": "code",
   "execution_count": null,
   "metadata": {},
   "outputs": [],
   "source": []
  },
  {
   "cell_type": "markdown",
   "metadata": {},
   "source": [
    "# Premiere simulation calculer le temps de simulation"
   ]
  },
  {
   "cell_type": "markdown",
   "metadata": {},
   "source": [
    "Grid search avec seulement la permeabilté de la zone 4 et 5 au début.\n",
    "Ploter pour les 8 capteurs de températures les rmse\n",
    "\n",
    "Ensuite grid search sur k, porosité et conductivité thermique.\n",
    "\n",
    "Tester sur une autre periode contrasté."
   ]
  },
  {
   "cell_type": "code",
   "execution_count": null,
   "metadata": {},
   "outputs": [],
   "source": []
  }
 ],
 "metadata": {
  "kernelspec": {
   "display_name": "Python 3",
   "language": "python",
   "name": "python3"
  },
  "language_info": {
   "codemirror_mode": {
    "name": "ipython",
    "version": 3
   },
   "file_extension": ".py",
   "mimetype": "text/x-python",
   "name": "python",
   "nbconvert_exporter": "python",
   "pygments_lexer": "ipython3",
   "version": "3.10.12"
  }
 },
 "nbformat": 4,
 "nbformat_minor": 2
}
